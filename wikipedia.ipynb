{
 "cells": [
  {
   "cell_type": "code",
   "execution_count": 60,
   "metadata": {
    "collapsed": true
   },
   "outputs": [],
   "source": [
    "import openai\n",
    "import os\n",
    "import pyperclip\n",
    "\n",
    "import requests\n",
    "from bs4 import BeautifulSoup\n",
    "import tiktoken\n",
    "\n",
    "from dotenv import load_dotenv, find_dotenv\n",
    "from langchain.llms import OpenAI\n",
    "from langchain.document_loaders import BSHTMLLoader, WebBaseLoader\n",
    "from langchain.chat_models import ChatOpenAI\n",
    "\n",
    "_ = load_dotenv(find_dotenv())\n",
    "openai.api_key = os.getenv('OPENAI_API_KEY')\n",
    "\n",
    "llm_default = ChatOpenAI(model_name=\"gpt-3.5-turbo\", streaming=True)\n",
    "llm_16k = ChatOpenAI(model_name=\"gpt-3.5-turbo-16k\", streaming=True)\n",
    "\n",
    "def num_tokens_from_string(string: str, encoding_name: str = \"gpt-3.5-turbo\") -> int:\n",
    "    \"\"\"Returns the number of tokens in a text string.\"\"\"\n",
    "    try:\n",
    "        encoding = tiktoken.get_encoding(encoding_name)\n",
    "    except ValueError:\n",
    "        encoding = tiktoken.encoding_for_model(encoding_name)\n",
    "    num_tokens = len(encoding.encode(string))\n",
    "    return num_tokens"
   ]
  },
  {
   "cell_type": "code",
   "execution_count": 50,
   "outputs": [],
   "source": [
    "llm = OpenAI()\n",
    "\n",
    "wikipedia_articles = [\n",
    "    \"https://en.wikipedia.org/wiki/Large_language_model\",\n",
    "    \"https://en.wikipedia.org/wiki/Transformer_(machine_learning_model)\",\n",
    "    \"https://en.wikipedia.org/wiki/Dual-phase_evolution\",\n",
    "    \"https://en.wikipedia.org/wiki/Tessellation\",\n",
    "    \"https://en.wikipedia.org/wiki/Climate_change\",\n",
    "    \"https://en.wikipedia.org/wiki/DNA_nanotechnology\",\n",
    "    \"https://en.wikipedia.org/wiki/Self-driving_car\",\n",
    "    \"https://en.wikipedia.org/wiki/Unmanned_aerial_vehicle\",\n",
    "    \"https://en.wikipedia.org/wiki/2022%E2%80%932023_food_crises\",\n",
    "    \"https://en.wikipedia.org/wiki/Economic_impacts_of_climate_change\",\n",
    "]\n",
    "\n",
    "dual_phase = wikipedia_articles[2]\n",
    "\n",
    "article = wikipedia_articles[0]\n",
    "\n",
    "# Send an HTTP request to the URL\n",
    "response = requests.get(article)\n",
    "\n",
    "# Check if the request was successful (status code 200)\n",
    "if response.status_code == 200:\n",
    "    # Get the HTML content from the response\n",
    "    html_content = response.text\n",
    "\n",
    "    # Use BeautifulSoup to parse the HTML content\n",
    "    soup = BeautifulSoup(html_content, 'html.parser')\n",
    "else:\n",
    "    print(f\"Failed to download the webpage. Status code: {response.status_code}\")"
   ],
   "metadata": {
    "collapsed": false
   }
  },
  {
   "cell_type": "code",
   "execution_count": 18,
   "outputs": [
    {
     "data": {
      "text/plain": "1"
     },
     "execution_count": 18,
     "metadata": {},
     "output_type": "execute_result"
    }
   ],
   "source": [
    "loader = WebBaseLoader(article)\n",
    "data = loader.load()\n",
    "len(data)"
   ],
   "metadata": {
    "collapsed": false
   }
  },
  {
   "cell_type": "code",
   "execution_count": 56,
   "outputs": [
    {
     "name": "stdout",
     "output_type": "stream",
     "text": [
      "Climate change - Wikipedia\n",
      "Contents\n",
      "Climate change\n",
      "Terminology\n",
      "Observed temperature rise\n",
      "Attribution of recent temperature rise\n",
      "Greenhouse gases\n",
      "Aerosols and clouds\n",
      "Land surface changes\n",
      "Solar and volcanic activity\n",
      "Climate change feedback\n",
      "Modelling\n",
      "Impacts\n",
      "Environmental effects\n",
      "Tipping points and long-term impacts\n",
      "Nature and wildlife\n",
      "Humans\n",
      "Food and health\n",
      "Livelihoods\n",
      "Reducing and recapturing emissions\n",
      "Clean energy\n",
      "Energy conservation\n",
      "Agriculture and industry\n",
      "Carbon sequestration\n",
      "Adaptation\n",
      "Policies and politics\n",
      "Policy options\n",
      "Climate justice\n",
      "International climate agreements\n",
      "National responses\n",
      "Society\n",
      "Denial and misinformation\n",
      "Public awareness and opinion\n",
      "Climate movement\n",
      "History\n",
      "Early discoveries\n",
      "Development of a scientific consensus\n",
      "See also\n",
      "References\n",
      "Sources\n",
      "IPCC reports\n",
      "Other peer-reviewed sources\n",
      "Books, reports and legal documents\n",
      "Non-technical sources\n",
      "Further reading\n",
      "External links\n"
     ]
    }
   ],
   "source": [
    "# dual_phase = wikipedia_articles[2]\n",
    "dual_phase = 'https://en.wikipedia.org/wiki/Climate_change'\n",
    "response_dp = requests.get(dual_phase)\n",
    "html_content_dp = response_dp.text\n",
    "soup_dp = BeautifulSoup(html_content_dp, 'html.parser')\n",
    "\n",
    "# Extract all headers and titles\n",
    "titles_and_headers = []\n",
    "\n",
    "# Find all title tags and extract their text\n",
    "title_tags = soup_dp.find_all('title')\n",
    "for title in title_tags:\n",
    "    titles_and_headers.append(title.text.strip())\n",
    "\n",
    "# Find all header tags (h1 to h6) and extract their text\n",
    "header_tags = soup_dp.find_all(['h1', 'h2', 'h3', 'h4', 'h5', 'h6'])\n",
    "for header in header_tags:\n",
    "    titles_and_headers.append(header.text.strip())\n",
    "\n",
    "# Print the extracted headers and titles\n",
    "for item in titles_and_headers:\n",
    "    print(item)\n"
   ],
   "metadata": {
    "collapsed": false
   }
  },
  {
   "cell_type": "code",
   "execution_count": 48,
   "outputs": [
    {
     "name": "stdout",
     "output_type": "stream",
     "text": [
      "Total number of articles:  10\n",
      "Article 0 contains 23,811 tokens - https://en.wikipedia.org/wiki/Large_language_model\n",
      "Article 1 contains 15,847 tokens - https://en.wikipedia.org/wiki/Transformer_(machine_learning_model)\n",
      "Article 2 contains 3,643 tokens - https://en.wikipedia.org/wiki/Dual-phase_evolution\n",
      "Article 3 contains 14,128 tokens - https://en.wikipedia.org/wiki/Tessellation\n",
      "Article 4 contains 51,822 tokens - https://en.wikipedia.org/wiki/Climate_change\n",
      "Article 5 contains 17,996 tokens - https://en.wikipedia.org/wiki/DNA_nanotechnology\n",
      "Article 6 contains 34,859 tokens - https://en.wikipedia.org/wiki/Self-driving_car\n",
      "Article 7 contains 24,120 tokens - https://en.wikipedia.org/wiki/Unmanned_aerial_vehicle\n",
      "Article 8 contains 24,161 tokens - https://en.wikipedia.org/wiki/2022%E2%80%932023_food_crises\n",
      "Article 9 contains 14,238 tokens - https://en.wikipedia.org/wiki/Economic_impacts_of_climate_change\n"
     ]
    }
   ],
   "source": [
    "all_articles = WebBaseLoader(wikipedia_articles).load()\n",
    "print('Total number of articles: ', len(all_articles))\n",
    "for i, doc in enumerate(all_articles):\n",
    "    print(f\"Article {i} contains {num_tokens_from_string(doc.page_content):,} tokens - {wikipedia_articles[i]}\")"
   ],
   "metadata": {
    "collapsed": false
   }
  },
  {
   "cell_type": "code",
   "execution_count": 58,
   "outputs": [
    {
     "data": {
      "text/plain": "'\\n\\n\\n\\nDual-phase evolution - Wikipedia\\n\\n\\n\\n\\n\\n\\n\\n\\n\\n\\n\\n\\n\\n\\n\\n\\n\\n\\n\\n\\n\\n\\n\\n\\n\\n\\n\\n\\nJump to content\\n\\n\\n\\n\\n\\n\\n\\nMain menu\\n\\n\\n\\n\\n\\nMain menu\\nmove to sidebar\\nhide\\n\\n\\n\\n\\t\\tNavigation\\n\\t\\n\\nMain pageContentsCurrent eventsRandom articleAbout WikipediaContact usDonate\\n\\n\\n\\n\\n\\t\\tContribute\\n\\t\\n\\nHelpLearn to editCommunity portalRecent changesUpload file\\n\\n\\n\\n\\nLanguages\\n\\nLanguage links are at the top of the page across from the title.\\n\\n\\n\\n\\n\\n\\n\\n\\n\\n\\n\\n\\n\\n\\n\\n\\n\\n\\n\\nSearch\\n\\n\\n\\n\\n\\n\\n\\n\\n\\n\\n\\nSearch\\n\\n\\n\\n\\n\\n\\n\\nCreate accountLog in\\n\\n\\n\\n\\n\\nPersonal tools\\n\\n\\n\\n\\n Create account Log in\\n\\n\\n\\n\\n\\t\\tPages for logged out editors learn more\\n\\n\\nContributionsTalk\\n\\n\\n\\n\\n\\n\\n\\n\\n\\n\\n\\n\\n\\n\\n\\n\\n\\n\\n\\n\\n\\n\\n\\n\\n\\n\\nContents\\nmove to sidebar\\nhide\\n\\n\\n\\n\\n(Top)\\n\\n\\n\\n\\n\\n1Introduction\\n\\n\\n\\n\\n\\n\\n\\n2The DPE mechanism\\n\\n\\n\\nToggle The DPE mechanism subsection\\n\\n\\n\\n\\n\\n2.1Underlying network\\n\\n\\n\\n\\n\\n\\n\\n2.2Phase shifts\\n\\n\\n\\n\\n\\n\\n\\n2.3Selection and variation\\n\\n\\n\\n\\n\\n\\n\\n2.4System memory\\n\\n\\n\\n\\n\\n\\n\\n\\n\\n3Examples\\n\\n\\n\\nToggle Examples subsection\\n\\n\\n\\n\\n\\n3.1Social networks\\n\\n\\n\\n\\n\\n\\n\\n3.2Socio-economics\\n\\n\\n\\n\\n\\n\\n\\n3.3Forest ecology\\n\\n\\n\\n\\n\\n\\n\\n3.4Search algorithms\\n\\n\\n\\n\\n\\n\\n\\n\\n\\n4Related processes\\n\\n\\n\\n\\n\\n\\n\\n5References\\n\\n\\n\\n\\n\\n\\n\\n\\n\\n\\n\\n\\n\\nToggle the table of contents\\n\\n\\n\\n\\n\\nToggle the table of contents\\n\\n\\n\\n\\n\\n\\n\\nDual-phase evolution\\n\\n\\n\\n1 language\\n\\n\\n\\nفارسی\\nEdit links\\n\\n\\n\\n\\n\\n\\n\\n\\n\\n\\n\\nArticle\\n\\nTalk\\n\\n\\n\\n\\n\\n\\nEnglish\\n\\n\\n\\n\\n\\n\\n\\n\\n\\n\\n\\n\\n\\n\\nRead\\n\\nEdit\\n\\nView history\\n\\n\\n\\n\\n\\n\\n\\n\\nTools\\n\\n\\n\\n\\n\\nTools\\nmove to sidebar\\nhide\\n\\n\\n\\n\\t\\tActions\\n\\t\\n\\nReadEditView history\\n\\n\\n\\n\\n\\t\\tGeneral\\n\\t\\n\\nWhat links hereRelated changesUpload fileSpecial pagesPermanent linkPage informationCite this pageWikidata item\\n\\n\\n\\n\\n\\t\\tPrint/export\\n\\t\\n\\nDownload as PDFPrintable version\\n\\n\\n\\n\\n\\n\\n\\n\\n\\n\\n\\n\\n\\n\\n\\n\\n\\n\\n\\n\\nFrom Wikipedia, the free encyclopedia\\n\\n\\nProcess that drives self-organization within complex adaptive systems\\nThis article has multiple issues. Please help improve it or discuss these issues on the talk page. (Learn how and when to remove these template messages)\\n\\nThis article needs additional citations for verification. Please help improve this article by adding citations to reliable sources. Unsourced material may be challenged and removed.Find sources:\\xa0\"Dual-phase evolution\"\\xa0–\\xa0news\\xa0· newspapers\\xa0· books\\xa0· scholar\\xa0· JSTOR (May 2015) (Learn how and when to remove this template message)\\nThis article may be too technical for most readers to understand. Please help improve it to make it understandable to non-experts, without removing the technical details. (May 2015) (Learn how and when to remove this template message)\\n\\n (Learn how and when to remove this template message)\\nDual phase evolution (DPE) is a process that drives self-organization within complex adaptive systems.[1] It arises in response to phase changes within the network of connections formed by a system\\'s components. DPE occurs in a wide range of physical, biological and social systems. Its applications to technology include methods for manufacturing novel materials and algorithms to solve complex problems in computation.\\n\\n\\nIntroduction[edit]\\nDual phase evolution (DPE) is a process that promotes the emergence of large-scale order in complex systems. It occurs when a system repeatedly switches between various kinds of phases, and in each phase different processes act on the components or connections in the system. DPE arises because of a property of graphs and networks: the connectivity avalanche that occurs in graphs as the number of edges increases.[2]\\nSocial networks provide a familiar example. In a social network the nodes of the network are people and the network connections (edges) are relationships or interactions between people. For any individual, social activity alternates between a local phase, in which they interact only with people they already know, and a global phase in which they can interact with a wide pool of people not previously known to them. Historically, these phases have been forced on people by constraints of time and space. People spend most of their time in a local phase and interact only with those immediately around them (family, neighbors, colleagues). However, intermittent activities such as parties, holidays, and conferences involve a shift into a global phase where they can interact with different people they do not know. Different processes dominate each phase. Essentially, people make new social links when in the global phase, and refine or break them (by ceasing contact) while in the local phase.\\n\\nThe DPE mechanism[edit]\\nThe following features are necessary for DPE to occur.[1]\\n\\nUnderlying network[edit]\\nDPE occurs where a system has an underlying network. That is, the system\\'s components form a set of nodes and there are connections (edges) that join them. For example, a family tree is a network in which the nodes are people (with names) and the edges are relationships such as \"mother of\" or \"married to\". The nodes in the network can take physical form, such as atoms held together by atomic forces, or they may be dynamic states or conditions, such as positions on a chess board with moves by the players defining the edges.\\nIn mathematical terms (graph theory), a graph \\n\\n\\n\\n\\nG\\n=\\n⟨\\nN\\n,\\nE\\n⟩\\n\\n\\n\\n{\\\\displaystyle \\\\textstyle G=\\\\langle N,E\\\\rangle }\\n\\n is a set of nodes \\n\\n\\n\\n\\nN\\n\\n\\n\\n{\\\\displaystyle \\\\textstyle N}\\n\\n and a set of edges \\n\\n\\n\\n\\nE\\n⊂\\n{\\n(\\nx\\n,\\ny\\n)\\n∣\\nx\\n,\\ny\\n∈\\nN\\n}\\n\\n\\n\\n{\\\\displaystyle \\\\textstyle E\\\\subset \\\\{(x,y)\\\\mid x,y\\\\in N\\\\}}\\n\\n. Each edge \\n\\n\\n\\n\\n(\\nx\\n,\\ny\\n)\\n\\n\\n\\n{\\\\displaystyle \\\\textstyle (x,y)}\\n\\n provides a link between a pair of nodes \\n\\n\\n\\n\\nx\\n\\n\\n\\n{\\\\displaystyle \\\\textstyle x}\\n\\n and \\n\\n\\n\\n\\ny\\n\\n\\n\\n{\\\\displaystyle \\\\textstyle y}\\n\\n. A network is a graph in which values are assigned to the nodes and/or edges.\\n\\nPhase shifts[edit]\\nGraphs and networks have two phases: disconnected (fragmented) and connected. In the connected phase every node is connected by an edge to at least one other node and for any pair of nodes, there is at least one path (sequence of edges) joining them.\\nThe Erdős–Rényi model shows that random graphs undergo a connectivity avalanche as the density of edges in a graph increases.[2] This avalanche amounts to a sudden phase change in the size of the largest connected subgraph. In effect, a graph has two phases: connected (most nodes are linked by pathways of interaction) and fragmented (nodes are either isolated or form small subgraphs). These are often referred to as global and local phases, respectively.\\n\\n Fragmented graph.\\n Connected graph.\\nAn essential feature of DPE is that the system undergoes repeated shifts between the two phases. In many cases, one phase is the system\\'s normal state and it remains in that phase until shocked into the alternate phase by a disturbance, which may be external in origin.\\n\\nSelection and variation[edit]\\nIn each of the two phases, the network is dominated by different processes.[1] In a local phase, the nodes behave as individuals; in the global phase, nodes are affected by interactions with other nodes. Most commonly the two processes at work can be interpreted as variation and selection. Variation refers to new features, which typically appear in one of the two phases. These features may be new nodes, new edges, or new properties of the nodes or edges. Selection here refers to ways in which the features are modified, refined, selected or removed. A simple example would be new edges being added at random in the global phase and edges being selectively removed in the local phase.\\n\\nSystem memory[edit]\\nThe effects of changes in one phase carry over into the other phase. This means that the processes acting in each phase can modify or refine patterns formed in the other phase. For instance, in a social network, if a person makes new acquaintances during a global phase, then some of these new social connections might survive into the local phase to become long-term friends. In this way, DPE can create effects that may be impossible if both processes act at the same time.\\n\\nExamples[edit]\\nDPE has been found to occur in many natural and artificial systems.[3]\\n\\nSocial networks[edit]\\nDPE is capable of producing social networks with known topologies, notably small-world networks and scale-free networks.[3]\\nSmall world networks, which are common in traditional societies, are a natural consequence of alternating local and global phases: new, long-distance links are formed during the global phase and existing links are reinforced (or removed) during the local phase. The advent of social media has decreased the constraining influence that space used to impose on social communication, so time has become the chief constraint for many people.\\nThe alternation between local and global phases in social networks occurs in many different guises. Some transitions between phases occur regularly, such as the daily cycle of people moving between home and work. This alternation can influence shifts in public opinion.[4] In the absence of social interaction, the uptake of an opinion promoted by media is a Markov process. The effect of social interaction under DPE is to retard the initial uptake until the number converted reaches a critical point, after which uptake accelerates rapidly.\\n\\nSocio-economics[edit]\\nDPE models of socio-economics interpret the economy as networks of economic agents.[5] Several studies have examined the way socioeconomics evolve when DPE acts on different parts of the network. One model[6] interpreted society as a network of occupations with inhabitants matched to those occupations. In this model social dynamics become a process of DPE within the network, with regular transitions between a development phase, during which the network settles into an equilibrium state, and a mutating phase, during which the network is transformed in random ways by the creation of new occupations.\\nAnother model[7] interpreted growth and decline in socioeconomic activity as a conflict between cooperators and defectors. The cooperators form networks that lead to prosperity. However, the network is unstable and invasions by defectors intermittently fragment the network, reducing prosperity, until invasions of new cooperators rebuild networks again. Thus prosperity is seen as a dual phase process of alternating highly prosperous, connected phases and unprosperous, fragmented phases.\\n\\nForest ecology[edit]\\nIn a forest, the landscape can be regarded as a network of sites where trees might grow.[8] Some sites are occupied by living trees; others sites are empty. In the local phase, sites free of trees are few and they are surrounded by forest, so the network of free sites is fragmented. In competition for these free sites, local seed sources have a massive advantage, and seeds from distant trees are virtually excluded.[1] Major fires (or other disturbances) clear away large tracts of land, so the network of free sites becomes connected and the landscape enters a global phase. In the global phase, competition for free sites is reduced, so the main competitive advantage is adaptation to the environment.\\nMost of the time a forest is in the local phase, as described above. The net effect is that established tree populations largely exclude invading species.[9] Even if a few isolated trees do find free ground, their population is prevented from expanding by established populations, even if the invaders are better adapted to the local environment. A fire in such conditions leads to an explosion of the invading population, and possibly to a sudden change in the character of the entire forest.\\nThis dual phase process in the landscape explains the consist appearance of pollen zones in the postglacial forest history of North America, Europe, as well as the suppression of widespread taxa, such as beech and hemlock, followed by huge population explosions. Similar patterns, pollen zones truncated by fire-induced boundaries, have been recorded in most parts of the world\\n\\nSearch algorithms[edit]\\nDual phase evolution is a family of search algorithms that exploit phase changes in the search space to mediate between local and global search. In this way they control the way algorithms explore a search space, so they can be regarded as a family of metaheuristic methods.\\nProblems such as optimization can typically be interpreted as finding the tallest peak (optimum) within a search space of possibilities. The task can be approached in two ways: local search (e.g. hill climbing) involves tracing a path from point to point, and always moving \"uphill\". Global search involves sampling at wide-ranging points in the search space to find high points.\\nMany search algorithms involve a transition between phases of global search and local search.[3] A simple example is the Great Deluge algorithm in which the searcher can move at random across the landscape, but cannot enter low-lying areas that are flooded. At first the searcher can wander freely, but rising water levels eventually confine the search to a local area. Many other nature-inspired algorithms adopt similar approaches. Simulated annealing achieves a transition between phases via its cooling schedule. The cellular genetic algorithm places solutions in a pseudo landscape in which they breed only with local neighbours. Intermittent disasters clear patches, flipping the system into a global phase until gaps are filled again.\\nSome variations on the memetic algorithm involve alternating between selection at different levels. These are related to the Baldwin effect, which arises when processes acting on phenotypes (e.g. learning) influence selection at the level of genotypes. In this sense, the Baldwin effect alternates between global search (genotypes) and local search (phenotypes).\\n\\nRelated processes[edit]\\nDual phase evolution is related to the well-known phenomenon of self-organized criticality (SOC). Both concern processes in which critical phase changes promote adaptation and organization within a system. However, SOC differs from DPE in several fundamental ways.[1] Under SOC, a system\\'s natural condition is to be in a critical state; in DPE a system\\'s natural condition is a non-critical state. In SOC the size of disturbances follows a power law; in DPE disturbances are not necessarily distributed the same way. In SOC a system is not necessarily subject to other processes; in DPE different processes (e.g. selection and variation) operate in the two phases.\\n\\nReferences[edit]\\n\\n\\n^ a b c d e \\nGreen, D.G.; Liu, J. & Abbass, H. (2014). Dual Phase Evolution: from Theory to Practice. Berlin: Springer. ISBN\\xa0978-1441984227.\\n\\n^ a b \\nErdős, P. & Rényi, A. (1960). \"On the evolution of random graphs\" (PDF). Publications of the Mathematical Institute of the Hungarian Academy of Sciences. 5: 17–61.\\n\\n^ a b c \\nPaperin, G.; Green, D.G. & Sadedin, S. (2011). \"Dual Phase Evolution in Complex Adaptive Systems\". Journal of the Royal Society Interface. 8 (58): 609–629. doi:10.1098/rsif.2010.0719. PMC\\xa03061102. PMID\\xa021247947.\\n\\n^ \\nStocker, R.; Cornforth, D. & Green, D.G. (2003). \"A simulation of the impact of media on social cohesion\". Advances in Complex Systems. 6 (3): 349–359. doi:10.1142/S0219525903000931.\\n\\n^ \\nGoodman, J. (2014). \"Evidence for ecological learning and domain specificity in rational asset pricing and market efficiency\" (PDF). The Journal of Socio-Economics. 48: 27–39. doi:10.1016/j.socec.2013.10.002.\\n\\n^ \\nXu, G.; Yang, J. & Li, G. (2013). \"Simulating society transitions: standstill, collapse and growth in an evolving network model\". PLOS ONE. 8 (9): e75433. Bibcode:2013PLoSO...875433X. doi:10.1371/journal.pone.0075433. PMC\\xa03783390. PMID\\xa024086530.\\n\\n^ \\nCavaliere, M.; Sedwards, C.; Tarnita, C.E.; Nowak, M.A. & Csikász-Nagy, A. (2012). \"Prosperity is associated with instability in dynamical networks\". Journal of Theoretical Biology. 299: 126–138. arXiv:1102.4947. Bibcode:2012JThBi.299..126C. doi:10.1016/j.jtbi.2011.09.005. PMC\\xa03298632. PMID\\xa021983567.\\n\\n^ Green, David G. (1994). \"Connectivity and complexity in ecological systems\". Pacific Conservation Biology. 1 (3): 194–200. doi:10.1071/PC940194.\\n\\n^ Green, David G (1982). \"Fire and stability in the postglacial forests of southwest Nova Scotia\". Journal of Biogeography. 9 (1): 29–40. doi:10.2307/2844728. JSTOR\\xa02844728.\\n\\n\\n\\n\\n\\n\\nRetrieved from \"https://en.wikipedia.org/w/index.php?title=Dual-phase_evolution&oldid=1126289474\"\\nCategory: Nature-inspired metaheuristicsHidden categories: Articles with short descriptionShort description matches WikidataArticles needing additional references from May 2015All articles needing additional referencesWikipedia articles that are too technical from May 2015All articles that are too technicalArticles with multiple maintenance issues\\n\\n\\n\\n\\n\\n\\n This page was last edited on 8 December 2022, at 15:05\\xa0(UTC).\\nText is available under the Creative Commons Attribution-ShareAlike License 4.0;\\nadditional terms may apply.  By using this site, you agree to the Terms of Use and Privacy Policy. Wikipedia® is a registered trademark of the Wikimedia Foundation, Inc., a non-profit organization.\\n\\n\\nPrivacy policy\\nAbout Wikipedia\\nDisclaimers\\nContact Wikipedia\\nCode of Conduct\\nMobile view\\nDevelopers\\nStatistics\\nCookie statement\\n\\n\\n\\n\\n\\n\\n\\n\\n\\n\\n\\n\\nToggle limited content width\\n\\n\\n\\n\\n\\n\\n\\n'"
     },
     "execution_count": 58,
     "metadata": {},
     "output_type": "execute_result"
    }
   ],
   "source": [
    "shortest_article = all_articles[2]\n",
    "shortest_article.page_content"
   ],
   "metadata": {
    "collapsed": false
   }
  },
  {
   "cell_type": "code",
   "execution_count": 61,
   "outputs": [
    {
     "data": {
      "text/plain": "\"Dual-phase evolution is a process that drives self-organization within complex adaptive systems. It occurs when a system switches between different phases, each with different processes acting on the system's components. Dual-phase evolution is found in various physical, biological, and social systems. It has applications in technology, such as manufacturing novel materials and solving complex computational problems. Examples of dual-phase evolution include social networks, socio-economics, forest ecology, and search algorithms. It is related to self-organized criticality but differs in several fundamental ways.\""
     },
     "execution_count": 61,
     "metadata": {},
     "output_type": "execute_result"
    }
   ],
   "source": [
    "llm_16k.predict(f\"Summarize the following text: {shortest_article.page_content}\")"
   ],
   "metadata": {
    "collapsed": false
   }
  },
  {
   "cell_type": "code",
   "execution_count": 45,
   "outputs": [],
   "source": [
    "# llm_default.predict(f'Translate the following text into German: {all_articles[3].page_content}')\n",
    "output = llm_16k.predict(f'Translate the following text into German: {all_articles[3].page_content}')"
   ],
   "metadata": {
    "collapsed": false
   }
  },
  {
   "cell_type": "code",
   "execution_count": 47,
   "outputs": [
    {
     "data": {
      "text/plain": "545"
     },
     "execution_count": 47,
     "metadata": {},
     "output_type": "execute_result"
    }
   ],
   "source": [
    "num_tokens_from_string(output)"
   ],
   "metadata": {
    "collapsed": false
   }
  },
  {
   "cell_type": "code",
   "execution_count": 21,
   "outputs": [
    {
     "data": {
      "text/plain": "'https://en.wikipedia.org/wiki/Tessellation'"
     },
     "execution_count": 21,
     "metadata": {},
     "output_type": "execute_result"
    }
   ],
   "source": [
    "wikipedia_articles[3]"
   ],
   "metadata": {
    "collapsed": false
   }
  },
  {
   "cell_type": "code",
   "execution_count": 31,
   "outputs": [
    {
     "data": {
      "text/plain": "6375"
     },
     "execution_count": 31,
     "metadata": {},
     "output_type": "execute_result"
    }
   ],
   "source": [
    "len(all_articles[3].page_content)\n",
    "\n",
    "enc = tiktoken.encoding_for_model('gpt-3.5-turbo')\n",
    "len(all_articles[3].page_content.split(' '))"
   ],
   "metadata": {
    "collapsed": false
   }
  },
  {
   "cell_type": "code",
   "execution_count": 36,
   "outputs": [
    {
     "data": {
      "text/plain": "14128"
     },
     "execution_count": 36,
     "metadata": {},
     "output_type": "execute_result"
    }
   ],
   "source": [
    "num_tokens_from_string(all_articles[3].page_content)"
   ],
   "metadata": {
    "collapsed": false
   }
  }
 ],
 "metadata": {
  "kernelspec": {
   "display_name": "Python 3",
   "language": "python",
   "name": "python3"
  },
  "language_info": {
   "codemirror_mode": {
    "name": "ipython",
    "version": 2
   },
   "file_extension": ".py",
   "mimetype": "text/x-python",
   "name": "python",
   "nbconvert_exporter": "python",
   "pygments_lexer": "ipython2",
   "version": "2.7.6"
  }
 },
 "nbformat": 4,
 "nbformat_minor": 0
}
