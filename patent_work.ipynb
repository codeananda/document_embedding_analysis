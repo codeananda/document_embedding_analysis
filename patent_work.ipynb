{
 "cells": [
  {
   "cell_type": "code",
   "execution_count": 1,
   "metadata": {
    "collapsed": true
   },
   "outputs": [
    {
     "name": "stdout",
     "output_type": "stream",
     "text": [
      "{'long_list': [0, 1, 2, 3, 4, '...'],\n",
      " 'long_string': 'aaaaaaaaaaaaaaaaaaaaaaaaaaaaaaaaaaaaaaaaaaaaaaaaaaaaaaaaaaaaaaaaaaaaaaaaaaaaaaaaaaaaaaaaaaaaaaaaaaaa',\n",
      " 'nested': {'nested_list': [0, 1, 2, 3, 4, '...'],\n",
      "            'nested_string': 'bbbbbbbbbbbbbbbbbbbbbbbbbbbbbbbbbbbbbbbbbbbbbbbbbb'}}\n"
     ]
    }
   ],
   "source": [
    "import asyncio\n",
    "import os\n",
    "import re\n",
    "import json\n",
    "from copy import copy, deepcopy\n",
    "from pathlib import Path\n",
    "from pprint import pprint, PrettyPrinter\n",
    "from time import time, sleep\n",
    "from typing import List, Dict\n",
    "from uuid import uuid4\n",
    "from collections import defaultdict\n",
    "\n",
    "import evaluate\n",
    "import openai\n",
    "import requests\n",
    "import tiktoken\n",
    "from bs4 import BeautifulSoup, Comment\n",
    "from doctran import Doctran, ExtractProperty\n",
    "from dotenv import load_dotenv, find_dotenv\n",
    "from evaluate import load\n",
    "from langchain.chat_models import ChatOpenAI\n",
    "from langchain.docstore.document import Document\n",
    "from langchain.document_loaders import WebBaseLoader\n",
    "from langchain.embeddings import (\n",
    "    OpenAIEmbeddings,\n",
    "    HuggingFaceEmbeddings,\n",
    ")\n",
    "from langchain.llms import OpenAI\n",
    "from langchain.text_splitter import (\n",
    "    MarkdownTextSplitter,\n",
    "    MarkdownHeaderTextSplitter,\n",
    "    LineType,\n",
    "    RecursiveCharacterTextSplitter,\n",
    ")\n",
    "from loguru import logger\n",
    "from sentence_transformers import SentenceTransformer\n",
    "from sklearn.metrics.pairwise import cosine_similarity\n",
    "import numpy as np\n",
    "\n",
    "from main import (\n",
    "    extract_plan_and_content_wikipedia,\n",
    "    compare_documents_plans,\n",
    "    compare_documents_content,\n",
    "    extract_plan_and_content_patent,\n",
    ")\n",
    "\n",
    "_ = load_dotenv(find_dotenv())\n",
    "openai.api_key = os.getenv('OPENAI_API_KEY')\n",
    "\n",
    "llm_default = ChatOpenAI(model_name=\"gpt-3.5-turbo\", streaming=True)\n",
    "llm_16k = ChatOpenAI(model_name=\"gpt-3.5-turbo-16k\", streaming=True)\n",
    "\n",
    "def num_tokens_from_string(string: str, encoding_name: str = \"gpt-3.5-turbo\") -> int:\n",
    "    \"\"\"Returns the number of tokens in a text string.\"\"\"\n",
    "    try:\n",
    "        encoding = tiktoken.get_encoding(encoding_name)\n",
    "    except ValueError:\n",
    "        encoding = tiktoken.encoding_for_model(encoding_name)\n",
    "    num_tokens = len(encoding.encode(string))\n",
    "    return num_tokens\n",
    "\n",
    "def convert_to_markdown(article_dict):\n",
    "    md_text = \"\"\n",
    "\n",
    "    for heading, content in article_dict.items():\n",
    "        # heading is of form: 'h3 Example'\n",
    "        # Define the markdown equivalent for the heading level\n",
    "        heading_level = \"#\" * int(heading[1])\n",
    "        heading = heading[3:]\n",
    "        # Append the heading and the content to the markdown text\n",
    "        md_text += f\"{heading_level} {heading}\\n\\n{content}\\n\\n\"\n",
    "\n",
    "    return md_text\n",
    "\n",
    "\n",
    "def truncated_pprint(obj, N=5):\n",
    "    \"\"\"Pretty print an object, truncating lists and strings to N items/characters\n",
    "    for easier viewing of plan_json objects\"\"\"\n",
    "    def truncate(item, N):\n",
    "        if isinstance(item, list) and N is not None:\n",
    "            return item[:N] + (['...'] if len(item) > N else [])\n",
    "        if isinstance(item, str) and N is not None:\n",
    "            N = 125\n",
    "            return item[:N] + ('...' if len(item) > N else '')\n",
    "        return item\n",
    "\n",
    "    def trunc_recursive(item, N):\n",
    "        if isinstance(item, list):\n",
    "            return [trunc_recursive(i, N) for i in truncate(item, N)]\n",
    "        elif isinstance(item, dict):\n",
    "            return {k: trunc_recursive(v, N) for k, v in item.items()}\n",
    "        else:\n",
    "            return truncate(item, N)\n",
    "\n",
    "    truncated_obj = trunc_recursive(obj, N)\n",
    "    pprint(truncated_obj, sort_dicts=False)\n",
    "\n",
    "# Test\n",
    "data = {\n",
    "    'long_list': list(range(100)),\n",
    "    'long_string': 'a' * 100,\n",
    "    'nested': {\n",
    "        'nested_list': list(range(50)),\n",
    "        'nested_string': 'b' * 50\n",
    "    }\n",
    "}\n",
    "\n",
    "truncated_pprint(data, 5)\n"
   ]
  },
  {
   "cell_type": "code",
   "execution_count": 2,
   "outputs": [
    {
     "name": "stderr",
     "output_type": "stream",
     "text": [
      "\u001B[32m2023-08-09 18:23:16.911\u001B[0m | \u001B[1mINFO    \u001B[0m | \u001B[36mmain\u001B[0m:\u001B[36mextract_plan_and_content_patent\u001B[0m:\u001B[36m679\u001B[0m - \u001B[1m\n",
      "\tExtracting plan and content for patent: data/patents/CONDOM FOR ORAL-GENITAL USE.txt\u001B[0m\n",
      "\u001B[32m2023-08-09 18:23:16.912\u001B[0m | \u001B[1mINFO    \u001B[0m | \u001B[36mmain\u001B[0m:\u001B[36mload_patent_file\u001B[0m:\u001B[36m81\u001B[0m - \u001B[1mLoading patent file: data/patents/CONDOM FOR ORAL-GENITAL USE.txt\u001B[0m\n",
      "\u001B[32m2023-08-09 18:23:16.913\u001B[0m | \u001B[1mINFO    \u001B[0m | \u001B[36mmain\u001B[0m:\u001B[36mdivide_sections_if_too_large\u001B[0m:\u001B[36m215\u001B[0m - \u001B[1mDividing sections if too large in plan and section content.\u001B[0m\n",
      "\u001B[32m2023-08-09 18:23:18.782\u001B[0m | \u001B[1mINFO    \u001B[0m | \u001B[36mmain\u001B[0m:\u001B[36mdivide_sections_if_too_large\u001B[0m:\u001B[36m268\u001B[0m - \u001B[1mAdded 'EP 0600858 B1' split original heading 'descr'\u001B[0m\n",
      "\u001B[32m2023-08-09 18:23:19.826\u001B[0m | \u001B[1mINFO    \u001B[0m | \u001B[36mmain\u001B[0m:\u001B[36mdivide_sections_if_too_large\u001B[0m:\u001B[36m268\u001B[0m - \u001B[1mAdded 'Male Condom and Protection during Oral Sex' split original heading 'descr'\u001B[0m\n",
      "\u001B[32m2023-08-09 18:23:20.688\u001B[0m | \u001B[1mINFO    \u001B[0m | \u001B[36mmain\u001B[0m:\u001B[36mdivide_sections_if_too_large\u001B[0m:\u001B[36m268\u001B[0m - \u001B[1mAdded 'Condoms for Safe Oral Sex' split original heading 'descr'\u001B[0m\n",
      "\u001B[32m2023-08-09 18:23:21.673\u001B[0m | \u001B[1mINFO    \u001B[0m | \u001B[36mmain\u001B[0m:\u001B[36mdivide_sections_if_too_large\u001B[0m:\u001B[36m268\u001B[0m - \u001B[1mAdded 'Condom for Oral-Genital Use' split original heading 'descr'\u001B[0m\n",
      "\u001B[32m2023-08-09 18:23:22.512\u001B[0m | \u001B[1mINFO    \u001B[0m | \u001B[36mmain\u001B[0m:\u001B[36mdivide_sections_if_too_large\u001B[0m:\u001B[36m268\u001B[0m - \u001B[1mAdded 'Embodiments of the Invention' split original heading 'descr'\u001B[0m\n",
      "\u001B[32m2023-08-09 18:23:23.223\u001B[0m | \u001B[1mINFO    \u001B[0m | \u001B[36mmain\u001B[0m:\u001B[36mdivide_sections_if_too_large\u001B[0m:\u001B[36m268\u001B[0m - \u001B[1mAdded 'Condom Design' split original heading 'descr'\u001B[0m\n",
      "\u001B[32m2023-08-09 18:23:23.922\u001B[0m | \u001B[1mINFO    \u001B[0m | \u001B[36mmain\u001B[0m:\u001B[36mdivide_sections_if_too_large\u001B[0m:\u001B[36m268\u001B[0m - \u001B[1mAdded 'Condom Design for Oral Sex' split original heading 'descr'\u001B[0m\n",
      "\u001B[32m2023-08-09 18:23:24.972\u001B[0m | \u001B[1mINFO    \u001B[0m | \u001B[36mmain\u001B[0m:\u001B[36mdivide_sections_if_too_large\u001B[0m:\u001B[36m268\u001B[0m - \u001B[1mAdded 'Condom Design' split original heading 'descr'\u001B[0m\n",
      "\u001B[32m2023-08-09 18:23:26.192\u001B[0m | \u001B[1mINFO    \u001B[0m | \u001B[36mmain\u001B[0m:\u001B[36mdivide_sections_if_too_large\u001B[0m:\u001B[36m268\u001B[0m - \u001B[1mAdded 'Toroidal Surfaces' split original heading 'descr'\u001B[0m\n",
      "\u001B[32m2023-08-09 18:23:27.022\u001B[0m | \u001B[1mINFO    \u001B[0m | \u001B[36mmain\u001B[0m:\u001B[36mdivide_sections_if_too_large\u001B[0m:\u001B[36m268\u001B[0m - \u001B[1mAdded 'Tongue Extension for Performing Cunnilingus' split original heading 'descr'\u001B[0m\n",
      "\u001B[32m2023-08-09 18:23:27.982\u001B[0m | \u001B[1mINFO    \u001B[0m | \u001B[36mmain\u001B[0m:\u001B[36mdivide_sections_if_too_large\u001B[0m:\u001B[36m268\u001B[0m - \u001B[1mAdded 'Condom Patent' split original heading 'claim_1'\u001B[0m\n",
      "\u001B[32m2023-08-09 18:23:29.022\u001B[0m | \u001B[1mINFO    \u001B[0m | \u001B[36mmain\u001B[0m:\u001B[36mdivide_sections_if_too_large\u001B[0m:\u001B[36m268\u001B[0m - \u001B[1mAdded 'Condom Flanges' split original heading 'claim_1'\u001B[0m\n",
      "\u001B[32m2023-08-09 18:23:29.022\u001B[0m | \u001B[1mINFO    \u001B[0m | \u001B[36mmain\u001B[0m:\u001B[36mdivide_sections_if_too_large\u001B[0m:\u001B[36m272\u001B[0m - \u001B[1m\n",
      "\tFinished dividing sections if too large in plan and section content.\n",
      "\tStarted with 4 sections and got 13 final sections.\n",
      "\tThat's a 3.25x increase in sections\u001B[0m\n",
      "\u001B[32m2023-08-09 18:23:29.023\u001B[0m | \u001B[1mINFO    \u001B[0m | \u001B[36mmain\u001B[0m:\u001B[36mgenerate_embeddings_plan_and_section_content\u001B[0m:\u001B[36m359\u001B[0m - \u001B[1mCreating plan json\u001B[0m\n",
      "\u001B[32m2023-08-09 18:23:29.024\u001B[0m | \u001B[1mINFO    \u001B[0m | \u001B[36mmain\u001B[0m:\u001B[36mgenerate_embeddings_plan_and_section_content\u001B[0m:\u001B[36m386\u001B[0m - \u001B[1mTitle: CONDOM FOR ORAL-GENITAL USE\u001B[0m\n",
      "\u001B[32m2023-08-09 18:23:29.024\u001B[0m | \u001B[1mINFO    \u001B[0m | \u001B[36mmain\u001B[0m:\u001B[36mgenerate_embeddings_plan_and_section_content\u001B[0m:\u001B[36m387\u001B[0m - \u001B[1mAbstract: EP\t0600858\tB1\t2000-05-17\ten\tDESCR\t1\t<heading id=\"h0001\"><u><b>Background of the Invention</b></u></heading><p id=\"p0001\" num=\"0001\">In recent years, the appearance of the HIV virus and the impending Acquired Immune Deficiency Syndrome epidemic have created an atmosphere of fear, caution and prudence in which sexually active adults must consider protecting themselves from infection by HIV virus as well as other venereal diseases. It is generally accepted as fact that the condom provides the best protection from venereal disease and HIV virus, aside from complete sexual abstinence. Unfortunately, such a positive barrier device is, at present, the only sure or certain way to prevent transmission of all STD's, many of which cause great personal suffering and, in the cases of AIDS and syphilis, death.</p><p id=\"p0002\" num=\"0002\">Condoms are generally designed to be applied to the male member, although recent adaptations have been introduced which permit their use by women in the form a liner for the vaginal canal. Such a condom is disclosed in US-A-4805604. However, a significant form of sexual activity, namely oral-genital sexual contact, has not been well served by the forms of condoms known in the prior art. Although many individuals do not openly discuss or acknowledge participating in such practices, many surveys have shown that oral-genital sex is highly desired and engaged in frequently. Commercially available condoms are not designed to facilitate or accommodate oral-genital sex. Moreover, the oral cavity, together with the lips and surrounding skin, provides many opportunities for disease transmission. Brushing and flossing of teeth, biting the cheek or tongue accidentally, or STD lesions in the mouth and throat areas all create breaks in the skin and mucosa that provide direct vectors to the blood. The present invention is directed toward a condom-like prophylactic that protects the oral cavity during oral sexual activity, so that disease transmission is blocked. It also protects the genitals, thus avoiding transmission in either direction. This is a unique solution to a very serious problem.</p><p id=\"p0003\" num=\"0003\">The typical male condom device may be used to prevent skin-to-skin contact during fellatio, but it suffers from the same drawback for this use as for other uses; i.e., it<!-- EPO <DP n=\"2\"> --> requires male arousal prior to\u001B[0m\n",
      "\u001B[32m2023-08-09 18:23:44.891\u001B[0m | \u001B[1mINFO    \u001B[0m | \u001B[36mmain\u001B[0m:\u001B[36m_gen_embed_section_content\u001B[0m:\u001B[36m316\u001B[0m - \u001B[1m2/11 - created section + content embeddings for Male Condom and Protection during Oral Sex\u001B[0m\n",
      "\u001B[32m2023-08-09 18:23:59.738\u001B[0m | \u001B[1mINFO    \u001B[0m | \u001B[36mmain\u001B[0m:\u001B[36m_gen_embed_section_content\u001B[0m:\u001B[36m316\u001B[0m - \u001B[1m3/11 - created section + content embeddings for Condoms for Safe Oral Sex\u001B[0m\n",
      "\u001B[32m2023-08-09 18:24:17.400\u001B[0m | \u001B[1mINFO    \u001B[0m | \u001B[36mmain\u001B[0m:\u001B[36m_gen_embed_section_content\u001B[0m:\u001B[36m316\u001B[0m - \u001B[1m4/11 - created section + content embeddings for Condom for Oral-Genital Use\u001B[0m\n",
      "\u001B[32m2023-08-09 18:24:36.551\u001B[0m | \u001B[1mINFO    \u001B[0m | \u001B[36mmain\u001B[0m:\u001B[36m_gen_embed_section_content\u001B[0m:\u001B[36m316\u001B[0m - \u001B[1m5/11 - created section + content embeddings for Embodiments of the Invention\u001B[0m\n",
      "\u001B[32m2023-08-09 18:24:54.291\u001B[0m | \u001B[1mINFO    \u001B[0m | \u001B[36mmain\u001B[0m:\u001B[36m_gen_embed_section_content\u001B[0m:\u001B[36m316\u001B[0m - \u001B[1m6/11 - created section + content embeddings for Condom Design\u001B[0m\n",
      "\u001B[32m2023-08-09 18:25:12.203\u001B[0m | \u001B[1mINFO    \u001B[0m | \u001B[36mmain\u001B[0m:\u001B[36m_gen_embed_section_content\u001B[0m:\u001B[36m316\u001B[0m - \u001B[1m7/11 - created section + content embeddings for Condom Design for Oral Sex\u001B[0m\n",
      "\u001B[32m2023-08-09 18:25:29.908\u001B[0m | \u001B[1mINFO    \u001B[0m | \u001B[36mmain\u001B[0m:\u001B[36m_gen_embed_section_content\u001B[0m:\u001B[36m316\u001B[0m - \u001B[1m8/11 - created section + content embeddings for Toroidal Surfaces\u001B[0m\n",
      "\u001B[32m2023-08-09 18:25:38.922\u001B[0m | \u001B[1mINFO    \u001B[0m | \u001B[36mmain\u001B[0m:\u001B[36m_gen_embed_section_content\u001B[0m:\u001B[36m316\u001B[0m - \u001B[1m9/11 - created section + content embeddings for Tongue Extension for Performing Cunnilingus\u001B[0m\n",
      "\u001B[32m2023-08-09 18:26:00.746\u001B[0m | \u001B[1mINFO    \u001B[0m | \u001B[36mmain\u001B[0m:\u001B[36m_gen_embed_section_content\u001B[0m:\u001B[36m316\u001B[0m - \u001B[1m10/11 - created section + content embeddings for Condom Patent\u001B[0m\n",
      "\u001B[32m2023-08-09 18:26:20.403\u001B[0m | \u001B[1mINFO    \u001B[0m | \u001B[36mmain\u001B[0m:\u001B[36m_gen_embed_section_content\u001B[0m:\u001B[36m316\u001B[0m - \u001B[1m11/11 - created section + content embeddings for Condom Flanges\u001B[0m\n",
      "\u001B[32m2023-08-09 18:26:24.586\u001B[0m | \u001B[1mINFO    \u001B[0m | \u001B[36mmain\u001B[0m:\u001B[36m_gen_embed_section_content\u001B[0m:\u001B[36m316\u001B[0m - \u001B[1m12/11 - created section + content embeddings for pdfep\u001B[0m\n",
      "\u001B[32m2023-08-09 18:26:24.625\u001B[0m | \u001B[1mINFO    \u001B[0m | \u001B[36mmain\u001B[0m:\u001B[36m_gen_embed_plan\u001B[0m:\u001B[36m345\u001B[0m - \u001B[1mCreated plan embedding 1\u001B[0m\n",
      "\u001B[32m2023-08-09 18:26:24.627\u001B[0m | \u001B[1mINFO    \u001B[0m | \u001B[36mmain\u001B[0m:\u001B[36m_gen_embed_plan\u001B[0m:\u001B[36m345\u001B[0m - \u001B[1mCreated plan embedding 2\u001B[0m\n",
      "\u001B[32m2023-08-09 18:26:44.291\u001B[0m | \u001B[1mINFO    \u001B[0m | \u001B[36mmain\u001B[0m:\u001B[36mgenerate_embeddings_plan_and_section_content\u001B[0m:\u001B[36m443\u001B[0m - \u001B[1mFinished creating plan json\u001B[0m\n",
      "\u001B[32m2023-08-09 18:26:44.314\u001B[0m | \u001B[1mINFO    \u001B[0m | \u001B[36mmain\u001B[0m:\u001B[36mextract_plan_and_content_patent\u001B[0m:\u001B[36m691\u001B[0m - \u001B[1m\n",
      "\tSuccessfully extracted plan and content for data/patents/CONDOM FOR ORAL-GENITAL USE.txt\n",
      "\tTime taken: 3mins 27.4s\u001B[0m\n"
     ]
    }
   ],
   "source": [
    "plan_json = await extract_plan_and_content_patent('data/patents/CONDOM FOR ORAL-GENITAL USE.txt')"
   ],
   "metadata": {
    "collapsed": false
   }
  },
  {
   "cell_type": "code",
   "execution_count": 3,
   "outputs": [
    {
     "name": "stdout",
     "output_type": "stream",
     "text": [
      "{'id': 'c6404bdf-872d-40f8-977d-f57c1cc8161c',\n",
      " 'title': 'CONDOM FOR ORAL-GENITAL USE',\n",
      " 'abstract': 'EP\\t0600858\\tB1\\t2000-05-17\\ten\\tDESCR\\t1\\t<heading '\n",
      "             'id=\"h0001\"><u><b>Background of the Invention</b></u></heading><p '\n",
      "             'id=\"p0001\" num=...',\n",
      " 'title_embedding_1': [-0.01705644652247429,\n",
      "                       0.014407929964363575,\n",
      "                       0.009422097355127335,\n",
      "                       -0.006363061256706715,\n",
      "                       0.0016371143283322453,\n",
      "                       '...'],\n",
      " 'title_embedding_2': [-0.020731359720230103,\n",
      "                       0.005263666156679392,\n",
      "                       -0.05795208364725113,\n",
      "                       -0.01253290381282568,\n",
      "                       0.0484771654009819,\n",
      "                       '...'],\n",
      " 'abstract_embedding_1': [-0.02011685259640217,\n",
      "                          0.004784218035638332,\n",
      "                          0.004644706379622221,\n",
      "                          -0.01600637286901474,\n",
      "                          0.005764199886471033,\n",
      "                          '...'],\n",
      " 'abstract_embedding_2': [-0.010733112692832947,\n",
      "                          0.0015603784704580903,\n",
      "                          -0.05946049094200134,\n",
      "                          -0.03571678698062897,\n",
      "                          0.004799356684088707,\n",
      "                          '...'],\n",
      " 'plan': [{'section_id': 2,\n",
      "           'section': 'Male Condom and Protection during Oral Sex',\n",
      "           'content': 'use, so that the condom may be applied to the male '\n",
      "                      'member. If arousal can be achieved only through sensual '\n",
      "                      'contact, then the ...',\n",
      "           'section_embedding_1': [-0.004269620403647423,\n",
      "                                   -0.006878650281578302,\n",
      "                                   0.027199549600481987,\n",
      "                                   -0.030350076034665108,\n",
      "                                   0.0018509345827624202,\n",
      "                                   '...'],\n",
      "           'section_embedding_2': [-0.01808173954486847,\n",
      "                                   0.011795532889664173,\n",
      "                                   -0.04457906261086464,\n",
      "                                   -0.005353971384465694,\n",
      "                                   0.044052042067050934,\n",
      "                                   '...'],\n",
      "           'content_embedding_1': [-0.023886434733867645,\n",
      "                                   0.0023722141049802303,\n",
      "                                   0.01536993496119976,\n",
      "                                   -0.016711115837097168,\n",
      "                                   0.01492734532803297,\n",
      "                                   '...'],\n",
      "           'content_embedding_2': [-0.011535984463989735,\n",
      "                                   -0.002513777231797576,\n",
      "                                   -0.05681779235601425,\n",
      "                                   -0.03624871373176575,\n",
      "                                   0.03990025818347931,\n",
      "                                   '...']},\n",
      "          {'section_id': 3,\n",
      "           'section': 'Condoms for Safe Oral Sex',\n",
      "           'content': 'so unprotected. Combined with the facts that many women '\n",
      "                      'desire to<!-- EPO <DP n=\"3\"> --> participate in '\n",
      "                      'cunnilingus and fella...',\n",
      "           'section_embedding_1': [-0.0016132757300511003,\n",
      "                                   -0.004629760980606079,\n",
      "                                   0.004596548620611429,\n",
      "                                   -0.02585226483643055,\n",
      "                                   0.005539771169424057,\n",
      "                                   '...'],\n",
      "           'section_embedding_2': [-0.017638981342315674,\n",
      "                                   0.0014361178036779165,\n",
      "                                   -0.049930885434150696,\n",
      "                                   -0.007764235604554415,\n",
      "                                   0.059678222984075546,\n",
      "                                   '...'],\n",
      "           'content_embedding_1': [-0.021809279918670654,\n",
      "                                   -0.009785178117454052,\n",
      "                                   -0.0009618269978091121,\n",
      "                                   -0.004538542125374079,\n",
      "                                   -0.005924382247030735,\n",
      "                                   '...'],\n",
      "           'content_embedding_2': [-0.01939278282225132,\n",
      "                                   -0.016170090064406395,\n",
      "                                   -0.028140781447291374,\n",
      "                                   -0.014603362418711185,\n",
      "                                   0.05059726536273956,\n",
      "                                   '...']},\n",
      "          {'section_id': 4,\n",
      "           'section': 'Condom for Oral-Genital Use',\n",
      "           'content': 'id=\"p0011\" num=\"0011\">The invention also includes an '\n",
      "                      'embodiment in which the condom is provided with a '\n",
      "                      'progressively expandin...',\n",
      "           'section_embedding_1': [-0.014817686751484871,\n",
      "                                   0.011334670707583427,\n",
      "                                   0.010508528910577297,\n",
      "                                   -0.009794741868972778,\n",
      "                                   0.004408294800668955,\n",
      "                                   '...'],\n",
      "           'section_embedding_2': [-0.020731359720230103,\n",
      "                                   0.005263666156679392,\n",
      "                                   -0.05795208364725113,\n",
      "                                   -0.01253290381282568,\n",
      "                                   0.0484771654009819,\n",
      "                                   '...'],\n",
      "           'content_embedding_1': [-0.025717349722981453,\n",
      "                                   0.013207872398197651,\n",
      "                                   0.00616230396553874,\n",
      "                                   -0.0063882553949952126,\n",
      "                                   -0.0067134881392121315,\n",
      "                                   '...'],\n",
      "           'content_embedding_2': [-0.039998311549425125,\n",
      "                                   -0.0016990156145766377,\n",
      "                                   -0.043052248656749725,\n",
      "                                   -0.03479631617665291,\n",
      "                                   0.059903014451265335,\n",
      "                                   '...']},\n",
      "          {'section_id': 5,\n",
      "           'section': 'Embodiments of the Invention',\n",
      "           'content': 'a perspective view of another embodiment of the '\n",
      "                      'invention, adapted for particular use in '\n",
      "                      'cunnilingus.</li><li>Figure 12 is an...',\n",
      "           'section_embedding_1': [-0.034153591841459274,\n",
      "                                   0.008432985283434391,\n",
      "                                   -0.00011725060903700069,\n",
      "                                   -0.0008820046205073595,\n",
      "                                   -0.00936851929873228,\n",
      "                                   '...'],\n",
      "           'section_embedding_2': [-0.01730259507894516,\n",
      "                                   -0.015184004791080952,\n",
      "                                   -0.04471273347735405,\n",
      "                                   0.0062783462926745415,\n",
      "                                   0.07612533867359161,\n",
      "                                   '...'],\n",
      "           'content_embedding_1': [-0.035540223121643066,\n",
      "                                   0.008864615112543106,\n",
      "                                   0.0005936430534347892,\n",
      "                                   -0.012060237117111683,\n",
      "                                   0.005055760499089956,\n",
      "                                   '...'],\n",
      "           'content_embedding_2': [-0.04353022575378418,\n",
      "                                   -0.003452182747423649,\n",
      "                                   -0.05382594093680382,\n",
      "                                   -0.02573671191930771,\n",
      "                                   0.05006219819188118,\n",
      "                                   '...']},\n",
      "          {'section_id': 6,\n",
      "           'section': 'Condom Design',\n",
      "           'content': 'previously, in form and function. The tubular portion '\n",
      "                      '62 is formed of a similar material as described '\n",
      "                      'above.</p><p id=\"p0020\"...',\n",
      "           'section_embedding_1': [-0.0045749228447675705,\n",
      "                                   0.0068952348083257675,\n",
      "                                   -0.0113283796235919,\n",
      "                                   -0.005899333395063877,\n",
      "                                   0.017455941066145897,\n",
      "                                   '...'],\n",
      "           'section_embedding_2': [0.010692738927900791,\n",
      "                                   0.0029069767333567142,\n",
      "                                   -0.055750634521245956,\n",
      "                                   0.0034712543711066246,\n",
      "                                   0.03942409157752991,\n",
      "                                   '...'],\n",
      "           'content_embedding_1': [-0.014272685162723064,\n",
      "                                   0.009285204112529755,\n",
      "                                   -0.011268258094787598,\n",
      "                                   0.0007805374916642904,\n",
      "                                   -0.0102336211130023,\n",
      "                                   '...'],\n",
      "           'content_embedding_2': [-0.018306128680706024,\n",
      "                                   -0.00034291361225768924,\n",
      "                                   -0.048981375992298126,\n",
      "                                   -0.018981698900461197,\n",
      "                                   0.04355118051171303,\n",
      "                                   '...']},\n",
      "          '...'],\n",
      " 'plan_embedding_1': [-0.01853613867106932,\n",
      "                      0.005158602477670435,\n",
      "                      0.0008674239027393263,\n",
      "                      -0.009981352149307812,\n",
      "                      -0.0008249432007274167,\n",
      "                      '...'],\n",
      " 'plan_embedding_2': [-0.011170291929209436,\n",
      "                      0.003840665383243256,\n",
      "                      -0.042117132381959396,\n",
      "                      -0.011712425875223495,\n",
      "                      0.04326950396749783,\n",
      "                      '...'],\n",
      " 'embedding1_model': 'text-embedding-ada-002',\n",
      " 'embedding2_model': 'e5-base-v2',\n",
      " 'success': True,\n",
      " 'error': None}\n"
     ]
    }
   ],
   "source": [
    "truncated_pprint(plan_json)"
   ],
   "metadata": {
    "collapsed": false
   }
  },
  {
   "cell_type": "code",
   "execution_count": 8,
   "outputs": [
    {
     "data": {
      "text/plain": "WindowsPath('C:/Users/User/Documents/1 Projects/document_extraction/CONDOM FOR ORAL-GENITAL USE.json')"
     },
     "execution_count": 8,
     "metadata": {},
     "output_type": "execute_result"
    }
   ],
   "source": [
    "Path(f'{plan_json[\"title\"]}.json').absolute()"
   ],
   "metadata": {
    "collapsed": false
   }
  },
  {
   "cell_type": "code",
   "execution_count": 4,
   "outputs": [],
   "source": [
    "with open(f'{plan_json[\"title\"]}.json', 'w') as file:\n",
    "    json.dump(plan_json, file, indent=4)"
   ],
   "metadata": {
    "collapsed": false
   }
  },
  {
   "cell_type": "code",
   "execution_count": 5,
   "outputs": [
    {
     "data": {
      "text/plain": "'CONDOM FOR ORAL-GENITAL USE'"
     },
     "execution_count": 5,
     "metadata": {},
     "output_type": "execute_result"
    }
   ],
   "source": [
    "plan_json['title']"
   ],
   "metadata": {
    "collapsed": false
   }
  },
  {
   "cell_type": "code",
   "execution_count": 7,
   "outputs": [
    {
     "data": {
      "text/plain": "dict_keys(['id', 'title', 'abstract', 'title_embedding_1', 'title_embedding_2', 'abstract_embedding_1', 'abstract_embedding_2', 'plan', 'plan_embedding_1', 'plan_embedding_2', 'embedding1_model', 'embedding2_model', 'success', 'error'])"
     },
     "execution_count": 7,
     "metadata": {},
     "output_type": "execute_result"
    }
   ],
   "source": [
    "with open('condom.json', 'r') as file:\n",
    "    loaded = json.load(file)\n",
    "\n",
    "loaded.keys()"
   ],
   "metadata": {
    "collapsed": false
   }
  },
  {
   "cell_type": "code",
   "execution_count": 4,
   "outputs": [],
   "source": [
    "with open('data/2022week30_EP0600000_extract.txt', 'r') as f:\n",
    "    text = f.read()\n",
    "\n",
    "with open('data/2022week30_EP0600000_extract.txt', 'r') as f:\n",
    "    lines = f.readlines()"
   ],
   "metadata": {
    "collapsed": false
   }
  },
  {
   "cell_type": "code",
   "execution_count": 5,
   "outputs": [
    {
     "data": {
      "text/plain": "200"
     },
     "execution_count": 5,
     "metadata": {},
     "output_type": "execute_result"
    }
   ],
   "source": [
    "len(lines)"
   ],
   "metadata": {
    "collapsed": false
   }
  },
  {
   "cell_type": "markdown",
   "source": [
    "* \\ten\\t shows it's English\n",
    "* \\tfr\\t shows it's French etc.\n",
    "* Contains TITLE, DESCR, and CLAIM\n",
    "* Sometimes CLAIM 1 and CLAIM 2 are written in different languages. Do we still need to translate them? No. Even though it says 'CLAIM 2' it's actually the same information, just take the english bit.\n",
    "\n",
    "Results\n",
    "* Only ever 1 x CLAIM\n",
    "* Split on TITLE and everything is fine."
   ],
   "metadata": {
    "collapsed": false
   }
  },
  {
   "cell_type": "code",
   "execution_count": 6,
   "outputs": [
    {
     "data": {
      "text/plain": "'EP\\t0668908\\tB1\\t2000-05-03\\tde\\tCLAIM\\t2\\t<claim id=\"c-de-01-0001\" num=\"0001\"><claim-text>Verfahren zur differenzierten Diagnose einer NematodenInfektion mit einem speziellen Nematoden-Typ, das im Fall von gemischten Nematoden-Infektionen anwendbar ist, wobei bei dem Verfahren eine DNA-Sequenz, die das Î²-Tubulin-Gen oder ein Teil dieses Gens dieser Nematode ist, als Oligonukleotid-Sonde und/oder Primer verwendet wird, und der Teil mindestens 10, vorzugsweise mindestens 18 Nukleotide, umfaÃŸt.</claim-text></claim><claim id=\"c-de-01-0002\" num=\"0002\"><claim-text>Verfahren nach Anspruch 1, bei dem die spezielle Nematode Haemonchus contortus und das Î²-Tubulin-Gen das Î²-Tubulin-Gen von Haemonchus contortus ist.</claim-text></claim><claim id=\"c-de-01-0003\" num=\"0003\"><claim-text>Verfahren nach Anspruch 1 oder 2, bei dem die Sonde und/oder der Primer einen Teil der 3\\'-HÃ¤lfte des Î²-Tubulin-Gens umfaÃŸt.</claim-text></claim><claim id=\"c-de-01-0004\" num=\"0004\"><claim-text>Verfahren nach einem der AnsprÃ¼che 1-3, bei dem die Sonde und/oder der Primer artenspezifisch ist.</claim-text></claim><claim id=\"c-de-01-0005\" num=\"0005\"><claim-text>Verfahren nach Anspruch 4, bei dem es sich bei der Sonde und/oder dem Primer um mindestens 10 Nukleotide eines fÃ¼r H. contortus spezifischen Introns handelt.</claim-text></claim><claim id=\"c-de-01-0006\" num=\"0006\"><claim-text>Verfahren nach einem der AnsprÃ¼che 1-4, bei dem die Sonde von der DNA-Sequenz stammt, welche die AminosÃ¤uren 332-335 des Î²-Tubulins von H. contortus kodiert.<!-- EPO <DP n=\"17\"> --></claim-text></claim><claim id=\"c-de-01-0007\" num=\"0007\"><claim-text>Verfahren nach einem der AnsprÃ¼che 1-6, bei dem die gesamte Nematoden-DNA auf eine Nylon-Membran aufgebracht und mit der Sonde hybridisiert wird.</claim-text></claim><claim id=\"c-de-01-0008\" num=\"0008\"><claim-text>Verfahren nach einem der AnsprÃ¼che 1-3, bei dem ein Primer ausgewÃ¤hlt wird, der in verschiedenen Nematoden-Typen konserviert ist, wobei der Primer so lokalisiert ist, daÃŸ die von der Gesamt-DNA der Nematode amplifizierte DNA fÃ¼r jede Nematode eine artspezifische LÃ¤nge hat.</claim-text></claim><claim id=\"c-de-01-0009\" num=\"0009\"><claim-text>Verfahren nach Anspruch 8, bei dem der Primer eine kodierende Sequenz fÃ¼r eine konservierte AminosÃ¤uresequenz ist.</claim-text></claim><claim id=\"c-de-01-0010\" num=\"0010\"><claim-text>Verfahren nach Anspruch 9, bei dem zwei Primer ausgewÃ¤hlt werden, die in verschiedenen Nematoden konserviert sind, wobei die Primer in der Î²-Tubulin-Sequenz so lokalisiert sind, daÃŸ das Amplifikationsprodukt jeder Nematode eine artenspezifische LÃ¤nge hat.</claim-text></claim><claim id=\"c-de-01-0011\" num=\"0011\"><claim-text>Verfahren nach einem der AnsprÃ¼che 1-3 oder 8-10, bei dem jedes Amplifikationsprodukt der Nematoden-DNA einen Teil der 3\\'-HÃ¤lfte des Î²-Tubulin-Gens umfaÃŸt.</claim-text></claim><claim id=\"c-de-01-0012\" num=\"0012\"><claim-text>Verfahren nach einem der AnsprÃ¼che 1-3 oder 8-11, dadurch gekennzeichnet, daÃŸ Î²-1 und Î²-2 als Primer verwendet werden, wobei Î²-1 die Sequenz 5\\' ACGGATCTCAACCACCTTG 3\\' und Î²-2 die Sequenz 5\\' CTGGTACTGCTGGTATTCGGA 3\\' auf dem komplementÃ¤ren Strang hat, oder die Primer Î²-7 und Î²-8 verwendet werden, wobei Î²-7 die AminosÃ¤uren 1-6 des Î²-Tubulins von H. contortus mit der DNA-Sequenz<claim-text>5\\' (CTA)G(GC)(GTAC)GA(CT)(CT)T(GCAT)AA(CT)CA(CT)(CT)T 3\\'</claim-text><!-- EPO <DP n=\"18\"> --> und Î²-8 die AminosÃ¤uren 199-205 des Î²-Tubulins von H. contortus mit der DNA-Sequenz<claim-text>5\\' TC(CT)TGGTA(TC)TG(CT)(TG)(GA)TA(CT)TC 3\\'</claim-text> auf dem komplementÃ¤ren Strang umfaÃŸt.</claim-text></claim><claim id=\"c-de-01-0013\" num=\"0013\"><claim-text>Verfahren nach einem der vorhergehenden AnsprÃ¼che, mit dem die Infektion mit H. contortus von Infektionen mit den unterschiedlichen Nematoden Cooperia circumcincta, Ostertagia circumcincta, Nematodirus battus, Nippostrongylus brasiliensis, Trichinella spiralis, Trichinella nativa, Trichostrongylus vitrinuns und Trichostrongylus colubriformis differenziert werden kann.</claim-text></claim><claim id=\"c-de-01-0014\" num=\"0014\"><claim-text>Verfahren nach einem der AnsprÃ¼che 1-3 und 8-13, dadurch gekennzeichnet, daÃŸ eine fÃ¼r H. contortus spezifische Diagnose der Infektion durchgefÃ¼hrt wird, wenn das Amplifikationsprodukt eine LÃ¤nge von 1,3 kb hat.</claim-text></claim><claim id=\"c-de-01-0015\" num=\"0015\"><claim-text>Verfahren nach einem der AnsprÃ¼che 1-3, 8-14, dadurch gekennzeichnet, daÃŸ eine fÃ¼r Trichostrongylus colubriformis spezifische Diagnose der Infektion durchgefÃ¼hrt wird, wenn das Amplifikationsprodukt eine LÃ¤nge von 0,9 kb hat.</claim-text></claim><claim id=\"c-de-01-0016\" num=\"0016\"><claim-text>Kit zur DurchfÃ¼hrung einer differenzierten Diagnose einer Infektion mit Haemonchus contortus nach einem der vorhergehenden AnsprÃ¼che, wobei der Kit mindestens einen Primer enthÃ¤lt, der eine kodierende DNA-Sequenz umfaÃŸt, welche die 3\\'-HÃ¤lfte des Î²-Tubulin-Gens der Nematode Haemonchus contortus ist, das in dem unter der Zugangsnummer CBS 334.90 beim Centraal Bureau Schimmelcultures in Baarn, Niederlande, hinterlegten Plasmid enthalten ist, und wobei der Primer eine LÃ¤nge von mindestens 10 Nukleotiden, vorzugsweise mindestens<!-- EPO <DP n=\"19\"> --> 18, hat und wobei der Primer eine in verschiedenen Nematoden konservierte Sequenz ist und in der DNA-Sequenz von Haemonchus contortus so lokalisiert ist, daÃŸ deren Amplifikationsprodukt eine artenspezifische LÃ¤nge hat.</claim-text></claim><claim id=\"c-de-01-0017\" num=\"0017\"><claim-text>Kit nach Anspruch 16, wobei der Kit die Primer mit den NukleinsÃ¤uresequenzen Î²-1 und Î²-2 und/oder die Primer Î²-7 und<claim-text>Î²-8 enthÃ¤lt, wobei</claim-text><claim-text>Î²-1 = 5\\'ACGGATCTCAACCACCTTG 3\\'</claim-text><claim-text>Î²-2 = 5\\'CTGGTACTGCTGGTATTCGGA 3\\'</claim-text><claim-text>Î²-7 = 5\\'(CTA)G(GC)(GTAC)GA(CT)(CT)T(GCAT)AA(CT)CA(CT)(CT)T 3\\'</claim-text><claim-text>Î²-8 = 5\\'TC(CT)TGGTA(TC)TG(CT)TG(GA)TA(CT)TC 3\\' ist.</claim-text></claim-text></claim><claim id=\"c-de-01-0018\" num=\"0018\"><claim-text>Kit zur DurchfÃ¼hrung einer differenzierten Diagnose einer Infektion mit Haemonchus contortus nach einem der AnsprÃ¼che 1-15, wobei der Kit mindestens eine Sonde und/oder einen Primer enthÃ¤lt, die/der fÃ¼r Haemonchus contortus artenspezifisch ist, und wobei die Sonde oder der Primer von einer kodierenden DNA-Sequenz stammt, welche die 3\\'-HÃ¤lfte des Î²-Tubulin-Gens von Haemonchus contortus ist, das in dem unter der Zugangsnummer CBS 334.90 beim Centraal Bureau Schimmelcultures in Baarn, Niederlande, hinterlegten Plasmid enthalten ist.</claim-text></claim><claim id=\"c-de-01-0019\" num=\"0019\"><claim-text>Kit nach Anspruch 18, wobei der Kit die Primer mit den NukleinsÃ¤uresequenzen Î²-1 und Î²-2 und/oder die Primer Î²-7 und Î²-8 enthÃ¤lt, wobei<claim-text>Î²-1 = 5\\'ACGGATCTCAACCACCTTG 3\\'</claim-text><claim-text>Î²-2 = 5\\'CTGGTACTGCTGGTATTCGGA 3\\'</claim-text><claim-text>Î²-7 = 5\\'(CTA)G(GC)(GTAC)GA(CT)(CT)T(GCAT)AA(CT)CA(CT)(CT)T 3\\'</claim-text><claim-text>Î²-8 = 5\\'TC(CT)TGGTA(TC)TG(CT)TG(GA)TA(CT)TC 3\\' ist.</claim-text></claim-text></claim>\\n'"
     },
     "execution_count": 6,
     "metadata": {},
     "output_type": "execute_result"
    }
   ],
   "source": [
    "claim_en = lines[20]\n",
    "claim_de = lines[21]\n",
    "claim_fr = lines[22]\n",
    "claim_de"
   ],
   "metadata": {
    "collapsed": false
   }
  },
  {
   "cell_type": "code",
   "execution_count": 7,
   "outputs": [
    {
     "data": {
      "text/plain": "'EP\\t0668908\\tB1\\t2000-05-03\\ten\\tCLAIM\\t1\\t<claim id=\"c-en-01-0001\" num=\"0001\"><claim-text>A method for differentiated diagnosis of nematode infection with a specific type of nematode useful in the case of mixed nematode infections said method comprising use of a DNA sequence, said DNA sequence being the Î²-tubulin gene or a part of said gene of said nematode as oligonucleotide probe and/or primer, said part comprising at least 10, preferably at least 18 nucleotides.</claim-text></claim><claim id=\"c-en-01-0002\" num=\"0002\"><claim-text>A method according to claim 1 wherein the specific nematode is <u>Haemonchus</u> <u>contortus</u> and the Î²-tubulin gene is the Î²-tubulin gene of <u>Haemonchus</u> <u>contortus</u>.</claim-text></claim><claim id=\"c-en-01-0003\" num=\"0003\"><claim-text>A method according to claim 1 or 2 wherein the probe and/or primer comprises a part of the 3\\' half of the Î²-tubulin gene.</claim-text></claim><claim id=\"c-en-01-0004\" num=\"0004\"><claim-text>A method according to any of claims 1-3 wherein the probe and/or primer is species specific.</claim-text></claim><claim id=\"c-en-01-0005\" num=\"0005\"><claim-text>A method according to claim 4, wherein the probe and/or primer is at least 10 nucleotides from a <u>H. contortus</u> specific intron.</claim-text></claim><claim id=\"c-en-01-0006\" num=\"0006\"><claim-text>A method according to any of claims 1-4 wherein the probe is derived from the DNA sequence encoding amino acids 332-335 of <u>H. contortus</u> Î²-tubulin.</claim-text></claim><claim id=\"c-en-01-0007\" num=\"0007\"><claim-text>A method according to any of claims 1-6 wherein the total nematode DNA is applied to a nylon membrane and hybridised with the probe.</claim-text></claim><claim id=\"c-en-01-0008\" num=\"0008\"><claim-text>A method according to any of claims 1-3 wherein a primer is selected that is conserved in various nematode types, whereby the primer is located such that the DNA that is amplified from the total DNA of the nematode has a species specific length per nematode.</claim-text></claim><claim id=\"c-en-01-0009\" num=\"0009\"><claim-text>A method according to claim 8 wherein the primer is a coding sequence for a conserved amino acid sequence.</claim-text></claim><claim id=\"c-en-01-0010\" num=\"0010\"><claim-text>A method acording to claim 9 wherein two primers are<!-- EPO <DP n=\"14\"> --> selected that are conserved in various nematodes, which primers are located in the Î²-tubulin sequence such that the amplification product has species specific length per nematode.</claim-text></claim><claim id=\"c-en-01-0011\" num=\"0011\"><claim-text>A method according to any of claims 1-3 or 8-10, wherein any amplification product of the nematode DNA comprises a part of the 3\\' half of the Î²-tubulin gene.</claim-text></claim><claim id=\"c-en-01-0012\" num=\"0012\"><claim-text>A method according to any of claims 1-3 or 8-11, characterised in that Î²-1 and Î²-2 are used as primers, whereby Î²-1 has the sequence 5\\' ACGGATCTCAACCACCTTG 3\\' and Î²-2 has the sequence 5\\' CTGGTACTGCTGGTATTCGGA 3\\' on the complementary strand, or primers Î²-7 and Î²-8 are used whereby Î²-7 comprises the amino acids 1-6 of Î²-tubulin of <u>H. contortus</u> with DNA sequence: 5\\' (CTA)G(GC)(GTAC)GA(CT)(CT)T(GCAT)AA(CT)CA(CT)(CT)T 3\\' and Î²-8 comprises the amino acids 199-205 of Î²-tubulin of <u>H.</u> <u>contortus</u> with DNA sequence. 5\\' TC(CT)TGGTA(TC)TG(CT)TG(GA)TA(CT)TC 3\\' on the complementary strand.</claim-text></claim><claim id=\"c-en-01-0013\" num=\"0013\"><claim-text>A method according to any of the preceding claims wherein <u>H. contortus</u> infection can be differentiated from infection with the various nematodes <u>Cooperia</u> <u>circumcincta.</u>, <u>Ostertagia</u> <u>circumcincta</u>, <u>Nematodirus</u> <u>battus</u>, <u>Nippostrongylus</u> <u>brasiliensis</u>, <u>Trichinella</u> <u>spiralis</u>, <u>Trichinella</u> <u>nativa</u>, <u>Trichostrongylus</u> <u>vitrinus</u> and <u>Trichostrongylus colubriformis</u>.</claim-text></claim><claim id=\"c-en-01-0014\" num=\"0014\"><claim-text>A method according to any of claims 1-3 and 8-13, characterised in that a diagnosis of infection is carried out which is specific for <u>H.</u> <u>contortus</u> when the amplification product has a length of 1,3 kb.</claim-text></claim><claim id=\"c-en-01-0015\" num=\"0015\"><claim-text>A method according to any of claims 1-3, 8-14, characterised in that a diagnosis of infection is carried out which is specific for <u>Trichostrongylus</u> <u>colubriformis</u> when the amplification product has a length of 0,9 kb.</claim-text></claim><claim id=\"c-en-01-0016\" num=\"0016\"><claim-text>Kit for carrying out a differentiated diagnosis of infection with <u>Haemonchus</u> <u>contortus</u> according to any of the preceding claims, which kit comprises at least a primer comprising DNA coding sequence, said DNA coding sequence being the 3\\' half of the Î²-tubulin<!-- EPO <DP n=\"15\"> --> gene comprised in the nematode <u>Haemonchus</u> <u>contortus</u> in the plasmid deposited under accession number CBS 334.90 at the Centraal Bureau Schimmelcultures in Baarn The Netherlands, said primer having a length of at least 10 nucleotides preferably of at least 18, said primer being a sequence conserved in various nematodes and located in the DNA sequence of <u>Haemonchus</u> <u>contortus</u> such that the amplification product thereof has a species specific length.</claim-text></claim><claim id=\"c-en-01-0017\" num=\"0017\"><claim-text>Kit according to claim 16 which kit comprises the primers with nucleic acid sequences Î²-1 and Î²-2 and/or the primers Î²-7 and Î²-8 wherein<claim-text>Î²-1 =5\\'ACGGATCTCAACCACCTTG 3\\'</claim-text><claim-text>Î²-2 =5\\'CTGGTACTGCTGGTATTCGGA 3\\'</claim-text><claim-text>Î²-7 =5\\'(CTA)G(GC)(GTAC)GA(CT)(CT)T(GCAT)AA(CT)CA(CT)(CT)T 3\\'</claim-text><claim-text>Î²-8 =5\\'TC(CT)TGGTA(TC)TG(CT)TG(GA)TA(CT)TC 3\\'.</claim-text></claim-text></claim><claim id=\"c-en-01-0018\" num=\"0018\"><claim-text>Kit for carrying out a differentiated diagnosis of infection with <u>Haemonchus</u> <u>contortus</u> according to any of claims 1-15 which kit comprises<br/>at least a probe and/or primer species specific for <u>Haemonchus</u> <u>contortus</u> said probe or primer being derived from a DNA coding sequence, said DNA coding sequence being the 3\\' half of the Î²-tubulin gene of <u>Haemonchus contortus</u> comprised in the plasmid deposited under accession number CBS 334.90 at the Centraal Bureau Schimmelcultures in Baarn The Netherlands.</claim-text></claim><claim id=\"c-en-01-0019\" num=\"0019\"><claim-text>Kit according to claim 18 which kit comprises the primers with nucleic acid sequences Î²-1 and Î²-2 and/or the primers Î²-7 and Î²-8 wherein<claim-text>Î²-1 =5\\'ACGGATCTCAACCACCTTG 3\\'</claim-text><claim-text>Î²-2 =5\\'CTGGTACTGCTGGTATTCGGA 3\\'</claim-text><claim-text>Î²-7 =5\\'(CTA)G(GC)(GTAC)GA(CT)(CT)T(GCAT)AA(CT)CA(CT)(CT)T 3\\'</claim-text><claim-text>Î²-8 =5\\'TC(CT)TGGTA(TC)TG(CT)TG(GA)TA(CT)TC 3\\'.</claim-text></claim-text></claim>\\n'"
     },
     "execution_count": 7,
     "metadata": {},
     "output_type": "execute_result"
    }
   ],
   "source": [
    "claim_en"
   ],
   "metadata": {
    "collapsed": false
   }
  },
  {
   "cell_type": "code",
   "execution_count": 8,
   "outputs": [
    {
     "data": {
      "text/plain": "'EP\\t0600858\\tB1\\t2000-05-17\\ten\\tTITLE\\t1\\tCONDOM FOR ORAL-GENITAL USE\\n'"
     },
     "execution_count": 8,
     "metadata": {},
     "output_type": "execute_result"
    }
   ],
   "source": [
    "lines_en = [line for line in lines if '\\ten\\t' in line]\n",
    "lines_en[0]"
   ],
   "metadata": {
    "collapsed": false
   }
  },
  {
   "cell_type": "code",
   "execution_count": 9,
   "outputs": [
    {
     "data": {
      "text/plain": "'EP\\t0600865\\tB1\\t2000-09-20\\ten\\tTITLE\\t1\\tXYLANASE PRODUCTION\\n'"
     },
     "execution_count": 9,
     "metadata": {},
     "output_type": "execute_result"
    }
   ],
   "source": [
    "lines_en[4]"
   ],
   "metadata": {
    "collapsed": false
   }
  },
  {
   "cell_type": "code",
   "execution_count": 10,
   "outputs": [
    {
     "data": {
      "text/plain": "defaultdict(str, {1: 'hello'})"
     },
     "execution_count": 10,
     "metadata": {},
     "output_type": "execute_result"
    }
   ],
   "source": [
    "a = defaultdict(str)\n",
    "a[1] += 'hello'\n",
    "a"
   ],
   "metadata": {
    "collapsed": false
   }
  },
  {
   "cell_type": "code",
   "execution_count": 11,
   "outputs": [],
   "source": [
    "def split_patents_into_individual_files(patents_file):\n",
    "    \"\"\"Read in a file containing many patents. Split each patent into its own file, keeping\n",
    "    only the english parts, and write to disk.\"\"\"\n",
    "    # Read in file\n",
    "    with open(patents_file, 'r') as f:\n",
    "        lines = f.readlines()\n",
    "    # Get all eng sections\n",
    "    lines_en = [line for line in lines if '\\ten\\t' in line]\n",
    "    # Split each on TITLE and write to its own file with TITLE as filename\n",
    "    os.makedirs('data/patents', exist_ok=True)\n",
    "    title = 'no title found'\n",
    "    # Create dict of patents\n",
    "    patents: defaultdict = defaultdict(str)\n",
    "    for i, x in enumerate(lines_en):\n",
    "        if '\\tTITLE\\t' in x:\n",
    "            title = x.split('\\t')[-1].strip()\n",
    "        patents[title] += x\n",
    "\n",
    "    # Write each patent to its own file\n",
    "    for title, content in patents.items():\n",
    "        filename_friendly_title = \"\".join(i for i in title if i not in \"\\/:*?<>|\")\n",
    "        with open(f'data/patents/{filename_friendly_title}.txt', 'w') as f:\n",
    "            f.write(content)\n",
    "            logger.info(f'Wrote file: {filename_friendly_title}.txt')\n",
    "\n",
    "def load_patent_file(patent_file) -> Dict[str, str]:\n",
    "    \"\"\"Read in a patent file and return a dict with keys as section titles and values the content.\n",
    "\n",
    "    Parameters\n",
    "    ----------\n",
    "    patent_file : str\n",
    "        Path to the patent file.\n",
    "\n",
    "    Returns\n",
    "    -------\n",
    "    patent_dict : dict\n",
    "        Dict with keys as section titles and values the content. Keys are ['title',\n",
    "        'descr', 'claim_1', 'claim_2', ..., 'claim_n', 'pdfep']. Not all patents\n",
    "        will have all keys. All will have 'title' at a minimum.\n",
    "    \"\"\"\n",
    "    # Read file\n",
    "    with open(patent_file, 'r') as f:\n",
    "        lines: list = f.readlines()\n",
    "\n",
    "    # Get all english sections\n",
    "    lines_en: list = [line for line in lines if '\\ten\\t' in line]\n",
    "\n",
    "    # Convert into dict with keys as section titles and values the content\n",
    "    patent_dict = {}\n",
    "    total_claims = 1\n",
    "    for x in lines_en:\n",
    "        if '\\tTITLE\\t' in x:\n",
    "            patent_dict['title'] = x\n",
    "        elif '\\tDESCR\\t' in x:\n",
    "            patent_dict['descr'] = x\n",
    "        elif '\\tCLAIM\\t' in x:\n",
    "            # Some patents have multiple claims, so we need to number them\n",
    "            patent_dict[f'claim_{total_claims}'] = x\n",
    "            total_claims += 1\n",
    "        elif '\\tPDFEP' in x:\n",
    "            patent_dict['pdfep'] = x\n",
    "        else:\n",
    "            raise ValueError(f\"Expected sections in [TITLE, DESCR, CLAIM, PDFEP]. Received: {x}\")\n",
    "\n",
    "    return patent_dict\n"
   ],
   "metadata": {
    "collapsed": false
   }
  },
  {
   "cell_type": "code",
   "execution_count": 12,
   "outputs": [
    {
     "data": {
      "text/plain": "dict_keys(['title', 'descr', 'claim_1', 'pdfep'])"
     },
     "execution_count": 12,
     "metadata": {},
     "output_type": "execute_result"
    }
   ],
   "source": [
    "a = load_patent_file('data/patents/XYLANASE PRODUCTION.txt')\n",
    "a.keys()"
   ],
   "metadata": {
    "collapsed": false
   }
  },
  {
   "cell_type": "code",
   "execution_count": 13,
   "outputs": [
    {
     "name": "stdout",
     "output_type": "stream",
     "text": [
      "\n",
      "Total Patents: 1\n",
      "0/93 - 'EP\\t0600858\\tB1\\t2000-05-17\\ten\\tTITLE\\t1\\tCONDOM FOR ORAL-GENITAL USE\\n'\n",
      "1/93 - 'EP\\t0600858\\tB1\\t2000-05-17\\ten\\tDESCR\\t1\\t<heading id=\"h0001\"><u><b>Background of the Invention</b></u></heading><p id=\"p0001\" num='\n",
      "2/93 - 'EP\\t0600858\\tB1\\t2000-05-17\\ten\\tCLAIM\\t1\\t<claim id=\"c-en-01-0001\" num=\"0001\"><claim-text>A condom (31) suitable for oral-genital u'\n",
      "3/93 - 'EP\\t0600858\\tB1\\t2000-05-17\\ten\\tPDFEP\\t1\\thttps://data.epo.org/publication-server/pdf-document?cc=EP&pn=0600858&ki=B1&pd=2000-05-17'\n",
      "\n",
      "Total Patents: 2\n",
      "4/93 - 'EP\\t0600865\\tB1\\t2000-09-20\\ten\\tTITLE\\t1\\tXYLANASE PRODUCTION\\n'\n",
      "5/93 - 'EP\\t0600865\\tB1\\t2000-09-20\\ten\\tDESCR\\t1\\t<p id=\"p0001\" num=\"0001\">This invention lies in the field of recombinant DNA technology. '\n",
      "6/93 - 'EP\\t0600865\\tB1\\t2000-09-20\\ten\\tCLAIM\\t1\\t<claim id=\"c-en-01-0001\" num=\"0001\"><claim-text>A recombinant DNA material comprising a n'\n",
      "7/93 - 'EP\\t0600865\\tB1\\t2000-09-20\\ten\\tPDFEP\\t1\\thttps://data.epo.org/publication-server/pdf-document?cc=EP&pn=0600865&ki=B1&pd=2000-09-20'\n",
      "\n",
      "Total Patents: 3\n",
      "8/93 - 'EP\\t0668908\\tB1\\t2000-05-03\\ten\\tTITLE\\t1\\tSPECIFIC DNA SEQUENCES OF A NEMATODE WHICH CAN BE USED FOR THE DIAGNOSIS OF INFECTION WIT'\n",
      "9/93 - 'EP\\t0668908\\tB1\\t2000-05-03\\ten\\tDESCR\\t1\\t<p id=\"p0001\" num=\"0001\">The present invention relates to a method for the diagnosis of a'\n",
      "10/93 - 'EP\\t0668908\\tB1\\t2000-05-03\\ten\\tCLAIM\\t1\\t<claim id=\"c-en-01-0001\" num=\"0001\"><claim-text>A method for differentiated diagnosis of '\n",
      "11/93 - 'EP\\t0668908\\tB1\\t2000-05-03\\ten\\tPDFEP\\t1\\thttps://data.epo.org/publication-server/pdf-document?cc=EP&pn=0668908&ki=B1&pd=2000-05-03'\n",
      "\n",
      "Total Patents: 4\n",
      "12/93 - 'EP\\t0600877\\tB1\\t2000-01-26\\ten\\tTITLE\\t1\\tSELECTION OF RIBOZYMES THAT EFFICIENTLY CLEAVE TARGET RNA\\n'\n",
      "13/93 - 'EP\\t0600877\\tB1\\t2000-01-26\\ten\\tDESCR\\t1\\t<heading id=\"h0001\"><u>Field of the Invention</u></heading><p id=\"p0001\" num=\"0001\">This '\n",
      "14/93 - 'EP\\t0600877\\tB1\\t2000-01-26\\ten\\tCLAIM\\t1\\t<claim id=\"c-en-01-0001\" num=\"0001\"><claim-text>A method for screening ribozymes for effe'\n",
      "15/93 - 'EP\\t0600877\\tB1\\t2000-01-26\\ten\\tPDFEP\\t1\\thttps://data.epo.org/publication-server/pdf-document?cc=EP&pn=0600877&ki=B1&pd=2000-01-26'\n",
      "\n",
      "Total Patents: 5\n",
      "16/93 - 'EP\\t0611955\\tB1\\t2000-01-12\\ten\\tTITLE\\t1\\tDevice for the examination of flow motion inside cylindrical components\\n'\n",
      "17/93 - 'EP\\t0611955\\tB1\\t2000-01-12\\ten\\tCLAIM\\t2\\t<claim id=\"c-en-01-0001\" num=\"0001\"><claim-text>An apparatus for investigating the flow m'\n",
      "\n",
      "Total Patents: 6\n",
      "18/93 - 'EP\\t0603422\\tB1\\t2000-05-24\\ten\\tTITLE\\t1\\tWear component and method of making same\\n'\n",
      "19/93 - 'EP\\t0603422\\tB1\\t2000-05-24\\ten\\tDESCR\\t1\\t<p id=\"p0001\" num=\"0001\">This invention relates to a wear component and a method of makin'\n",
      "20/93 - 'EP\\t0603422\\tB1\\t2000-05-24\\ten\\tCLAIM\\t1\\t<claim id=\"c-en-01-0001\" num=\"0001\"><claim-text>A wear component (20), comprising:<claim-'\n",
      "21/93 - 'EP\\t0603422\\tB1\\t2000-05-24\\ten\\tPDFEP\\t1\\thttps://data.epo.org/publication-server/pdf-document?cc=EP&pn=0603422&ki=B1&pd=2000-05-24'\n",
      "\n",
      "Total Patents: 7\n",
      "22/93 - 'EP\\t0604687\\tB1\\t2000-04-19\\ten\\tTITLE\\t1\\tMethod for deriving character features in a character recognition system\\n'\n",
      "23/93 - 'EP\\t0604687\\tB1\\t2000-04-19\\ten\\tDESCR\\t1\\t<heading id=\"h0001\">A. <u>Background of the invention</u></heading><heading id=\"h0002\">1.'\n",
      "24/93 - 'EP\\t0604687\\tB1\\t2000-04-19\\ten\\tCLAIM\\t1\\t<claim id=\"c-en-01-0001\" num=\"0001\"><claim-text>A method for deriving character features '\n",
      "25/93 - 'EP\\t0604687\\tB1\\t2000-04-19\\ten\\tPDFEP\\t1\\thttps://data.epo.org/publication-server/pdf-document?cc=EP&pn=0604687&ki=B1&pd=2000-04-19'\n",
      "\n",
      "Total Patents: 8\n",
      "26/93 - 'EP\\t0600143\\tB1\\t2000-01-19\\ten\\tTITLE\\t1\\tElectromagnetic radiation monitor\\n'\n",
      "27/93 - 'EP\\t0600143\\tB1\\t2000-01-19\\ten\\tDESCR\\t1\\t<p id=\"p0001\" num=\"0001\">This invention relates to radiation monitors, and more specifica'\n",
      "28/93 - 'EP\\t0600143\\tB1\\t2000-01-19\\ten\\tCLAIM\\t1\\t<claim id=\"c-en-01-0001\" num=\"0001\"><claim-text>An electromagnetic radiation monitor, whi'\n",
      "29/93 - 'EP\\t0600143\\tB1\\t2000-01-19\\ten\\tPDFEP\\t1\\thttps://data.epo.org/publication-server/pdf-document?cc=EP&pn=0600143&ki=B1&pd=2000-01-19'\n",
      "\n",
      "Total Patents: 9\n",
      "30/93 - 'EP\\t0610186\\tB1\\t2000-03-29\\ten\\tTITLE\\t1\\tA PROCESS FOR REGENERATING SPENT FLUIDIZED CATALYTIC CRACKING CATALYST\\n'\n",
      "31/93 - 'EP\\t0610186\\tB1\\t2000-03-29\\ten\\tDESCR\\t1\\t<p id=\"p0001\" num=\"0001\">This invention relates to a process for regenerating spent fluid'\n",
      "32/93 - 'EP\\t0610186\\tB1\\t2000-03-29\\ten\\tCLAIM\\t1\\t<claim id=\"c-en-01-0001\" num=\"0001\"><claim-text>A process for regenerating spent fluidize'\n",
      "33/93 - 'EP\\t0610186\\tB1\\t2000-03-29\\ten\\tPDFEP\\t1\\thttps://data.epo.org/publication-server/pdf-document?cc=EP&pn=0610186&ki=B1&pd=2000-03-29'\n",
      "\n",
      "Total Patents: 10\n",
      "34/93 - 'EP\\t0605418\\tB1\\t2000-07-05\\ten\\tTITLE\\t1\\tATMS/POS BASED ELECTRONIC MAIL SYSTEM\\n'\n",
      "35/93 - 'EP\\t0605418\\tB1\\t2000-07-05\\ten\\tDESCR\\t1\\t<heading id=\"h0001\"><u>Technical Field</u></heading><p id=\"p0001\" num=\"0001\">The present '\n",
      "36/93 - 'EP\\t0605418\\tB1\\t2000-07-05\\ten\\tCLAIM\\t1\\t<claim id=\"c-en-01-0001\" num=\"0001\"><claim-text>An electronic mail system (10) which is a'\n",
      "37/93 - 'EP\\t0605418\\tB1\\t2000-07-05\\ten\\tPDFEP\\t1\\thttps://data.epo.org/publication-server/pdf-document?cc=EP&pn=0605418&ki=B1&pd=2000-07-05'\n",
      "\n",
      "Total Patents: 11\n",
      "38/93 - 'EP\\t0608223\\tB1\\t2000-03-08\\ten\\tTITLE\\t1\\tBANDAGE\\n'\n",
      "39/93 - 'EP\\t0608223\\tB1\\t2000-03-08\\ten\\tDESCR\\t1\\t<p id=\"p0001\" num=\"0001\">This invention relates to bandages. In particular, it relates to'\n",
      "40/93 - 'EP\\t0608223\\tB1\\t2000-03-08\\ten\\tCLAIM\\t1\\t<claim id=\"c-en-01-0001\" num=\"0001\"><claim-text>A bandage comprising a flexibly stretchab'\n",
      "41/93 - 'EP\\t0608223\\tB1\\t2000-03-08\\ten\\tPDFEP\\t1\\thttps://data.epo.org/publication-server/pdf-document?cc=EP&pn=0608223&ki=B1&pd=2000-03-08'\n",
      "\n",
      "Total Patents: 12\n",
      "42/93 - 'EP\\t0632031\\tB1\\t2000-05-03\\ten\\tTITLE\\t1\\tCONDENSED BENZOXA RING COMPOUND, PRODUCTION THEREOF, AND PHARMACEUTICAL COMPOSITION CONTA'\n",
      "43/93 - 'EP\\t0632031\\tB1\\t2000-05-03\\ten\\tDESCR\\t1\\t<heading id=\"h0001\">TECHNICAL FIELD</heading><p id=\"p0001\" num=\"0001\">The present inventi'\n",
      "44/93 - 'EP\\t0632031\\tB1\\t2000-05-03\\ten\\tCLAIM\\t1\\t<claim id=\"c-en-01-0001\" num=\"0001\"><claim-text>A pharmaceutical composition comprising a'\n",
      "45/93 - 'EP\\t0632031\\tB1\\t2000-05-03\\ten\\tPDFEP\\t1\\thttps://data.epo.org/publication-server/pdf-document?cc=EP&pn=0632031&ki=B1&pd=2000-05-03'\n",
      "\n",
      "Total Patents: 13\n",
      "46/93 - 'EP\\t0612463\\tB2\\t2000-05-24\\ten\\tTITLE\\t1\\tDEVICE FOR FORMATION OF A FILM ON THE WALLS OF HOLES IN PRINTED CIRCUIT BOARDS\\n'\n",
      "47/93 - 'EP\\t0612463\\tB2\\t2000-05-24\\ten\\tDESCR\\t1\\t<p id=\"p0001\" num=\"0001\">The invention concerns a device for formation of a film on the w'\n",
      "48/93 - 'EP\\t0612463\\tB2\\t2000-05-24\\ten\\tCLAIM\\t1\\t<claim id=\"c-en-01-0001\" num=\"0001\"><claim-text>Device (10) for formation of a film (43) '\n",
      "49/93 - 'EP\\t0612463\\tB2\\t2000-05-24\\ten\\tPDFEP\\t1\\thttps://data.epo.org/publication-server/pdf-document?cc=EP&pn=0612463&ki=B2&pd=2000-05-24'\n",
      "\n",
      "Total Patents: 14\n",
      "50/93 - 'EP\\t0615422\\tB1\\t2000-01-19\\ten\\tTITLE\\t1\\tAPPARATUS FOR THE MEASUREMENT OF ATRIAL PRESSURE\\n'\n",
      "51/93 - 'EP\\t0615422\\tB1\\t2000-01-19\\ten\\tDESCR\\t1\\t<p id=\"p0001\" num=\"0001\">The present invention relates generally to the measurement of bl'\n",
      "52/93 - 'EP\\t0615422\\tB1\\t2000-01-19\\ten\\tCLAIM\\t1\\t<claim id=\"c-en-01-0001\" num=\"0001\"><claim-text>Apparatus for determining mean left atria'\n",
      "53/93 - 'EP\\t0615422\\tB1\\t2000-01-19\\ten\\tPDFEP\\t1\\thttps://data.epo.org/publication-server/pdf-document?cc=EP&pn=0615422&ki=B1&pd=2000-01-19'\n",
      "\n",
      "Total Patents: 15\n",
      "54/93 - 'EP\\t0619020\\tB1\\t2000-11-08\\ten\\tTITLE\\t1\\tDETERMINATION OF TRICYCLIC ANTIDEPRESSANT DRUGS IN THE PRESENCE OF INTERFERING SUBSTANCES'\n",
      "55/93 - 'EP\\t0619020\\tB1\\t2000-11-08\\ten\\tDESCR\\t1\\t<heading id=\"h0001\"><u>FIELD OF THE INVENTION</u></heading><p id=\"p0001\" num=\"0001\">The p'\n",
      "56/93 - 'EP\\t0619020\\tB1\\t2000-11-08\\ten\\tCLAIM\\t1\\t<claim id=\"c-en-01-0001\" num=\"0001\"><claim-text>An immunoassay method for determining the'\n",
      "57/93 - 'EP\\t0619020\\tB1\\t2000-11-08\\ten\\tCLAIM\\t2\\t<claim id=\"c-en-02-0001\" num=\"0001\"><claim-text>An immunoassay method for determining the'\n",
      "58/93 - 'EP\\t0619020\\tB1\\t2000-11-08\\ten\\tPDFEP\\t1\\thttps://data.epo.org/publication-server/pdf-document?cc=EP&pn=0619020&ki=B1&pd=2000-11-08'\n",
      "\n",
      "Total Patents: 16\n",
      "59/93 - 'EP\\t0612246\\tB1\\t2000-08-30\\ten\\tTITLE\\t1\\tPHARMACEUTICAL COMPOSITIONS OF GALLIUM COMPLEXES OF 3-HYDROXY-4-PYRONES\\n'\n",
      "60/93 - 'EP\\t0612246\\tB1\\t2000-08-30\\ten\\tDESCR\\t1\\t<heading id=\"h0001\"><b>BACKGROUND OF THE INVENTION</b></heading><heading id=\"h0002\">1. <u'\n",
      "61/93 - 'EP\\t0612246\\tB1\\t2000-08-30\\ten\\tCLAIM\\t1\\t<claim id=\"c-en-01-0001\" num=\"0001\"><claim-text>A pharmaceutical composition in a solid d'\n",
      "62/93 - 'EP\\t0612246\\tB1\\t2000-08-30\\ten\\tCLAIM\\t2\\t<claim id=\"c-en-02-0001\" num=\"0001\"><claim-text>Process for preparing a pharmaceutical co'\n",
      "63/93 - 'EP\\t0612246\\tB1\\t2000-08-30\\ten\\tPDFEP\\t1\\thttps://data.epo.org/publication-server/pdf-document?cc=EP&pn=0612246&ki=B1&pd=2000-08-30'\n",
      "\n",
      "Total Patents: 17\n",
      "64/93 - 'EP\\t0636181\\tB1\\t2000-11-29\\ten\\tTITLE\\t1\\tUSE OF A GENE ENCODING OXALATE OXIDASE FOR THE TRANSFORMATION OF PLANTS\\n'\n",
      "65/93 - 'EP\\t0636181\\tB1\\t2000-11-29\\ten\\tDESCR\\t1\\t<p id=\"p0001\" num=\"0001\">This invention relates to the genetic improvement of plants by t'\n",
      "66/93 - 'EP\\t0636181\\tB1\\t2000-11-29\\ten\\tCLAIM\\t1\\t<claim id=\"c-en-01-0001\" num=\"0001\"><claim-text>A method of imparting the ability to degr'\n",
      "67/93 - 'EP\\t0636181\\tB1\\t2000-11-29\\ten\\tPDFEP\\t1\\thttps://data.epo.org/publication-server/pdf-document?cc=EP&pn=0636181&ki=B1&pd=2000-11-29'\n",
      "\n",
      "Total Patents: 18\n",
      "68/93 - 'EP\\t0605422\\tB1\\t2000-03-08\\ten\\tTITLE\\t1\\tSAFETY SYRINGE ASSEMBLY WITH RADIALLY DEFORMABLE BODY\\n'\n",
      "69/93 - 'EP\\t0605422\\tB1\\t2000-03-08\\ten\\tDESCR\\t1\\t<heading id=\"h0001\">BACKGROUND OF THE INVENTION</heading><p id=\"p0001\" num=\"0001\">The nee'\n",
      "70/93 - 'EP\\t0605422\\tB1\\t2000-03-08\\ten\\tCLAIM\\t1\\t<claim id=\"c-en-01-0001\" num=\"0001\"><claim-text>Syringe assembly comprising:<claim-text>a'\n",
      "71/93 - 'EP\\t0605422\\tB1\\t2000-03-08\\ten\\tPDFEP\\t1\\thttps://data.epo.org/publication-server/pdf-document?cc=EP&pn=0605422&ki=B1&pd=2000-03-08'\n",
      "\n",
      "Total Patents: 19\n",
      "72/93 - 'EP\\t0614422\\tB1\\t2000-03-22\\ten\\tTITLE\\t1\\tDUAL PISTON STRUT\\n'\n",
      "73/93 - 'EP\\t0614422\\tB1\\t2000-03-22\\ten\\tDESCR\\t1\\t<p id=\"p0001\" num=\"0001\">This invention relates generally to suspension systems for land '\n",
      "74/93 - 'EP\\t0614422\\tB1\\t2000-03-22\\ten\\tCLAIM\\t1\\t<claim id=\"c-en-01-0001\" num=\"0001\"><claim-text>A compressible liquid spring suspension s'\n",
      "75/93 - 'EP\\t0614422\\tB1\\t2000-03-22\\ten\\tPDFEP\\t1\\thttps://data.epo.org/publication-server/pdf-document?cc=EP&pn=0614422&ki=B1&pd=2000-03-22'\n",
      "\n",
      "Total Patents: 20\n",
      "76/93 - 'EP\\t0674732\\tB1\\t2000-08-16\\ten\\tTITLE\\t1\\tCOMPOSITE BLOCK AND PROCESS FOR MANUFACTURING\\n'\n",
      "77/93 - 'EP\\t0674732\\tB1\\t2000-08-16\\ten\\tDESCR\\t1\\t<p id=\"p0001\" num=\"0001\">This invention relates to composite blocks such as paving blocks'\n",
      "78/93 - 'EP\\t0674732\\tB1\\t2000-08-16\\ten\\tCLAIM\\t1\\t<claim id=\"c-en-01-0001\" num=\"0001\"><claim-text>Composite blocks (75) comprising:<claim-t'\n",
      "79/93 - 'EP\\t0674732\\tB1\\t2000-08-16\\ten\\tPDFEP\\t1\\thttps://data.epo.org/publication-server/pdf-document?cc=EP&pn=0674732&ki=B1&pd=2000-08-16'\n",
      "\n",
      "Total Patents: 21\n",
      "80/93 - 'EP\\t0644972\\tB1\\t2000-08-16\\ten\\tTITLE\\t1\\tSYSTEM FOR FIXING JUXTAPOSED AND PARALLEL SLATS\\n'\n",
      "81/93 - 'EP\\t0644972\\tB1\\t2000-08-16\\ten\\tCLAIM\\t2\\t<claim id=\"c-en-01-0001\" num=\"0001\"><claim-text>Fixing system for assembling wooden board'\n",
      "\n",
      "Total Patents: 22\n",
      "82/93 - 'EP\\t0619773\\tB1\\t2000-03-15\\ten\\tTITLE\\t1\\tMETHOD AND DEVICE FOR MANUFACTURING CONSTRUCTION BLOCKS FROM A HYDRAULIC BINDER SUCH AS P'\n",
      "83/93 - 'EP\\t0619773\\tB1\\t2000-03-15\\ten\\tCLAIM\\t2\\t<claim id=\"c-en-01-0001\" num=\"0001\"><claim-text>A method for manufacturing blocks from a '\n",
      "\n",
      "Total Patents: 23\n",
      "84/93 - 'EP\\t0639149\\tB1\\t2000-03-29\\ten\\tTITLE\\t1\\tDISPENSING APPARATUS UTILIZING A PRESSURE GENERATOR\\n'\n",
      "85/93 - 'EP\\t0639149\\tB1\\t2000-03-29\\ten\\tDESCR\\t1\\t<p id=\"p0001\" num=\"0001\">The present invention relates to a pressure generator and, more '\n",
      "86/93 - 'EP\\t0639149\\tB1\\t2000-03-29\\ten\\tCLAIM\\t1\\t<claim id=\"c-en-01-0001\" num=\"0001\"><claim-text>Apparatus for maintaining a substantially'\n",
      "87/93 - 'EP\\t0639149\\tB1\\t2000-03-29\\ten\\tPDFEP\\t1\\thttps://data.epo.org/publication-server/pdf-document?cc=EP&pn=0639149&ki=B1&pd=2000-03-29'\n",
      "\n",
      "Total Patents: 24\n",
      "88/93 - 'EP\\t0600893\\tB1\\t2000-03-22\\ten\\tTITLE\\t1\\tGENE EXPRESSION IN BACILLI\\n'\n",
      "89/93 - 'EP\\t0600893\\tB1\\t2000-03-22\\ten\\tDESCR\\t1\\t<heading id=\"h0001\"><u>FIELD OF THE INVENTION</u></heading><p id=\"p0001\" num=\"0001\">The i'\n",
      "90/93 - 'EP\\t0600893\\tB1\\t2000-03-22\\ten\\tCLAIM\\t1\\t<claim id=\"c-en-01-0001\" num=\"0001\"><claim-text>A <u>Bacillus</u> for use in the hyperpro'\n",
      "91/93 - 'EP\\t0600893\\tB1\\t2000-03-22\\ten\\tPDFEP\\t1\\thttps://data.epo.org/publication-server/pdf-document?cc=EP&pn=0600893&ki=B1&pd=2000-03-22'\n",
      "\n",
      "Total Patents: 25\n",
      "92/93 - 'EP\\t0693879\\tB1\\t2000-07-19\\ten\\tTITLE\\t1\\tMICROWAVE TURNTABLE CONVECTION HEATER\\n'\n"
     ]
    }
   ],
   "source": [
    "patents: defaultdict = defaultdict(list)\n",
    "total = 0\n",
    "for i, x in enumerate(lines_en):\n",
    "    if '\\tTITLE\\t' in x:\n",
    "        print()\n",
    "        total += 1\n",
    "        print(f\"Total Patents: {total}\")\n",
    "    print(rf\"{i}/{len(lines_en)} - {repr(x[:125])}\")\n",
    "    patents[f\"patent_{total}\"].append(x)"
   ],
   "metadata": {
    "collapsed": false
   }
  },
  {
   "cell_type": "code",
   "execution_count": 14,
   "outputs": [
    {
     "name": "stdout",
     "output_type": "stream",
     "text": [
      "30\n",
      "4755\n",
      "925\n",
      "56\n"
     ]
    }
   ],
   "source": [
    "for x in patents['patent_1']:\n",
    "    print(num_tokens_from_string(x))"
   ],
   "metadata": {
    "collapsed": false
   }
  },
  {
   "cell_type": "code",
   "execution_count": 15,
   "outputs": [
    {
     "data": {
      "text/plain": "list"
     },
     "execution_count": 15,
     "metadata": {},
     "output_type": "execute_result"
    }
   ],
   "source": [
    "type(patents['patent_1'])"
   ],
   "metadata": {
    "collapsed": false
   }
  },
  {
   "cell_type": "code",
   "execution_count": 16,
   "outputs": [],
   "source": [
    "condom = patents['patent_1']\n",
    "condom_dict = {}\n",
    "total_claims = 1\n",
    "for x in condom:\n",
    "    if '\\tTITLE\\t' in x:\n",
    "        condom_dict['title'] = x\n",
    "    elif '\\tDESCR\\t' in x:\n",
    "        condom_dict['descr'] = x\n",
    "    elif '\\tCLAIM\\t' in x:\n",
    "        condom_dict[f'claim_{total_claims}'] = x\n",
    "        total_claims += 1\n",
    "    elif '\\tPDFEP' in x:\n",
    "        condom_dict['pdfep'] = x\n",
    "    else:\n",
    "        raise ValueError(f\"Expected sections in [TITLE, DESCR, CLAIM, PDFEP]. Received: {x}\")"
   ],
   "metadata": {
    "collapsed": false
   }
  },
  {
   "cell_type": "code",
   "execution_count": 17,
   "outputs": [
    {
     "name": "stdout",
     "output_type": "stream",
     "text": [
      "title 30\n",
      "descr 4755\n",
      "claim_1 925\n",
      "pdfep 56\n"
     ]
    }
   ],
   "source": [
    "for k, v in condom_dict.items():\n",
    "    print(k, num_tokens_from_string(v))"
   ],
   "metadata": {
    "collapsed": false
   }
  },
  {
   "cell_type": "code",
   "execution_count": 18,
   "outputs": [],
   "source": [
    "from typing import Dict\n",
    "\n",
    "\n",
    "async def _extract_title(string: str) -> str:\n",
    "    \"\"\"Extract a title from `string` that is max 7 words long.\"\"\"\n",
    "    doctran = Doctran(\n",
    "        openai_api_key=os.getenv(\"OPENAI_API_KEY\"), openai_model=\"gpt-3.5-turbo\"\n",
    "    )\n",
    "    document = doctran.parse(content=string)\n",
    "    properties = ExtractProperty(\n",
    "        name=\"title\",\n",
    "        description=\"The title of the document (max 7 words).\",\n",
    "        type=\"string\",\n",
    "        required=True,\n",
    "    )\n",
    "    document = await document.extract(properties=[properties]).execute()\n",
    "    return document.transformed_content\n",
    "\n",
    "async def divide_sections_if_too_large(\n",
    "    article_dict: Dict[str, str],\n",
    "    max_section_length: int = 512,\n",
    "    doc_type: str = \"patent\",\n",
    ") -> Dict[str, str]:\n",
    "    \"\"\"This function takes an existing dictionary containing the plan and sections\n",
    "    content (from above functions), checks if any section is too large (i.e., more\n",
    "    than 512 tokens), divides such sections into smaller sections, generates a new\n",
    "    title, and returns the updated dictionary\n",
    "    \"\"\"\n",
    "    if doc_type not in [\"patent\", \"wikipedia\", \"arxiv\"]:\n",
    "        raise ValueError(\n",
    "            f\"doc_type must be one of 'patent', 'wikipedia', or 'arxiv'. Got {doc_type}.\"\n",
    "        )\n",
    "    logger.info(\"Dividing sections if too large in plan and section content.\")\n",
    "    final_dict: Dict = {}\n",
    "    start_dict = copy(article_dict)\n",
    "\n",
    "    def is_reference_section(heading: str):\n",
    "        \"\"\"Returns True if heading is a reference section.\"\"\"\n",
    "        heading = heading.lower()\n",
    "        result = (\n",
    "            \"reference\" in heading\n",
    "            or \"further reading\" in heading\n",
    "            or \"see also\" in heading\n",
    "        )\n",
    "        return result\n",
    "\n",
    "    for heading, content in start_dict.items():\n",
    "        num_tokens = num_tokens_from_string(content)\n",
    "        # Each section must contain something, otherwise the embedding models fail\n",
    "        if num_tokens == 0:\n",
    "            final_dict[heading] = \" \"\n",
    "        # If the section is small enough, add it to the final dict\n",
    "        elif num_tokens <= max_section_length:\n",
    "            final_dict[heading] = content\n",
    "        # If section is too big, split into smaller sections, extract title, and add to final dict\n",
    "        else:\n",
    "            # Split\n",
    "            char_splitter = RecursiveCharacterTextSplitter(\n",
    "                chunk_size=max_section_length,\n",
    "                chunk_overlap=0,\n",
    "                # ' ' separator means sometimes sentences will be cut in two to ensure\n",
    "                # the chunk size is not exceeded\n",
    "                separators=[\"\\n\\n\", \"\\n\", \" \"],\n",
    "                length_function=num_tokens_from_string,\n",
    "            )\n",
    "            splits: List[str] = char_splitter.split_text(content)\n",
    "            # Keep heading the same but add numbers to sections e.g. 'h2 Reference' -> 'h2 Reference 1'\n",
    "            if doc_type == \"wikipedia\" and is_reference_section(heading):\n",
    "                for i, split in enumerate(splits, start=1):\n",
    "                    new_heading = f\"{heading} {i}\"\n",
    "                    final_dict[new_heading] = split\n",
    "                    logger.info(\n",
    "                        f\"Added '{new_heading}' split original heading '{heading}'\"\n",
    "                    )\n",
    "            # Create new titles for each split\n",
    "            for split in splits:\n",
    "                # Headings are of the form h1, h2, h3 etc. we split it into more of the same level\n",
    "                if doc_type == \"wikipedia\":\n",
    "                    heading_level = int(heading[1])\n",
    "                    title = await _extract_title(split)\n",
    "                    new_heading = f\"h{heading_level} {title}\"\n",
    "                # Heading levels aren't important for other doc_types\n",
    "                else:\n",
    "                    new_heading = await _extract_title(split)\n",
    "                final_dict[new_heading] = split\n",
    "                logger.info(f\"Added '{new_heading}' split original heading '{heading}'\")\n",
    "\n",
    "    n_keys_start = len(start_dict.keys())\n",
    "    n_keys_final = len(final_dict.keys())\n",
    "    logger.info(\n",
    "        f\"\\n\\tFinished dividing sections if too large in plan and section content.\"\n",
    "        f\"\\n\\tStarted with {n_keys_start} sections and got {n_keys_final} final sections.\"\n",
    "        f\"\\n\\tThat's a {n_keys_final / n_keys_start:.2f}x increase in sections\"\n",
    "    )\n",
    "    return final_dict"
   ],
   "metadata": {
    "collapsed": false
   }
  },
  {
   "cell_type": "code",
   "execution_count": 19,
   "outputs": [
    {
     "name": "stderr",
     "output_type": "stream",
     "text": [
      "\u001B[32m2023-08-09 17:47:22.468\u001B[0m | \u001B[1mINFO    \u001B[0m | \u001B[36m__main__\u001B[0m:\u001B[36mdivide_sections_if_too_large\u001B[0m:\u001B[36m33\u001B[0m - \u001B[1mDividing sections if too large in plan and section content.\u001B[0m\n",
      "\u001B[32m2023-08-09 17:47:23.668\u001B[0m | \u001B[1mINFO    \u001B[0m | \u001B[36m__main__\u001B[0m:\u001B[36mdivide_sections_if_too_large\u001B[0m:\u001B[36m86\u001B[0m - \u001B[1mAdded 'EP 0600858 B1' split original heading 'descr'\u001B[0m\n",
      "\u001B[32m2023-08-09 17:47:24.647\u001B[0m | \u001B[1mINFO    \u001B[0m | \u001B[36m__main__\u001B[0m:\u001B[36mdivide_sections_if_too_large\u001B[0m:\u001B[36m86\u001B[0m - \u001B[1mAdded 'Male Condom and Protection during Oral Sex' split original heading 'descr'\u001B[0m\n",
      "\u001B[32m2023-08-09 17:47:25.333\u001B[0m | \u001B[1mINFO    \u001B[0m | \u001B[36m__main__\u001B[0m:\u001B[36mdivide_sections_if_too_large\u001B[0m:\u001B[36m86\u001B[0m - \u001B[1mAdded 'Condoms for Oral Sex' split original heading 'descr'\u001B[0m\n",
      "\u001B[32m2023-08-09 17:47:26.246\u001B[0m | \u001B[1mINFO    \u001B[0m | \u001B[36m__main__\u001B[0m:\u001B[36mdivide_sections_if_too_large\u001B[0m:\u001B[36m86\u001B[0m - \u001B[1mAdded 'Condom for Oral-Genital Use' split original heading 'descr'\u001B[0m\n",
      "\u001B[32m2023-08-09 17:47:27.079\u001B[0m | \u001B[1mINFO    \u001B[0m | \u001B[36m__main__\u001B[0m:\u001B[36mdivide_sections_if_too_large\u001B[0m:\u001B[36m86\u001B[0m - \u001B[1mAdded 'Embodiments of the Invention' split original heading 'descr'\u001B[0m\n",
      "\u001B[32m2023-08-09 17:47:27.797\u001B[0m | \u001B[1mINFO    \u001B[0m | \u001B[36m__main__\u001B[0m:\u001B[36mdivide_sections_if_too_large\u001B[0m:\u001B[36m86\u001B[0m - \u001B[1mAdded 'Condom Design' split original heading 'descr'\u001B[0m\n",
      "\u001B[32m2023-08-09 17:47:28.680\u001B[0m | \u001B[1mINFO    \u001B[0m | \u001B[36m__main__\u001B[0m:\u001B[36mdivide_sections_if_too_large\u001B[0m:\u001B[36m86\u001B[0m - \u001B[1mAdded 'Condom Design for Oral Sex' split original heading 'descr'\u001B[0m\n",
      "\u001B[32m2023-08-09 17:47:29.295\u001B[0m | \u001B[1mINFO    \u001B[0m | \u001B[36m__main__\u001B[0m:\u001B[36mdivide_sections_if_too_large\u001B[0m:\u001B[36m86\u001B[0m - \u001B[1mAdded 'Condom Design' split original heading 'descr'\u001B[0m\n",
      "\u001B[32m2023-08-09 17:47:30.130\u001B[0m | \u001B[1mINFO    \u001B[0m | \u001B[36m__main__\u001B[0m:\u001B[36mdivide_sections_if_too_large\u001B[0m:\u001B[36m86\u001B[0m - \u001B[1mAdded 'Toroidal Surfaces' split original heading 'descr'\u001B[0m\n",
      "\u001B[32m2023-08-09 17:47:31.116\u001B[0m | \u001B[1mINFO    \u001B[0m | \u001B[36m__main__\u001B[0m:\u001B[36mdivide_sections_if_too_large\u001B[0m:\u001B[36m86\u001B[0m - \u001B[1mAdded 'Tongue Extension for Performing Cunnilingus' split original heading 'descr'\u001B[0m\n",
      "\u001B[32m2023-08-09 17:47:31.905\u001B[0m | \u001B[1mINFO    \u001B[0m | \u001B[36m__main__\u001B[0m:\u001B[36mdivide_sections_if_too_large\u001B[0m:\u001B[36m86\u001B[0m - \u001B[1mAdded 'Condom Patent' split original heading 'claim_1'\u001B[0m\n",
      "\u001B[32m2023-08-09 17:47:32.682\u001B[0m | \u001B[1mINFO    \u001B[0m | \u001B[36m__main__\u001B[0m:\u001B[36mdivide_sections_if_too_large\u001B[0m:\u001B[36m86\u001B[0m - \u001B[1mAdded 'Condom Flanges' split original heading 'claim_1'\u001B[0m\n",
      "\u001B[32m2023-08-09 17:47:32.683\u001B[0m | \u001B[1mINFO    \u001B[0m | \u001B[36m__main__\u001B[0m:\u001B[36mdivide_sections_if_too_large\u001B[0m:\u001B[36m90\u001B[0m - \u001B[1m\n",
      "\tFinished dividing sections if too large in plan and section content.\n",
      "\tStarted with 4 sections and got 13 final sections.\n",
      "\tThat's a 3.25x increase in sections\u001B[0m\n"
     ]
    }
   ],
   "source": [
    "divided = await divide_sections_if_too_large(condom_dict)"
   ],
   "metadata": {
    "collapsed": false
   }
  },
  {
   "cell_type": "code",
   "execution_count": 28,
   "outputs": [
    {
     "data": {
      "text/plain": "dict_keys(['title', 'descr', 'claim_1', 'pdfep'])"
     },
     "execution_count": 28,
     "metadata": {},
     "output_type": "execute_result"
    }
   ],
   "source": [
    "condom_dict.keys()"
   ],
   "metadata": {
    "collapsed": false
   }
  },
  {
   "cell_type": "code",
   "execution_count": 20,
   "outputs": [
    {
     "data": {
      "text/plain": "dict_keys(['title', 'EP 0600858 B1', 'Male Condom and Protection during Oral Sex', 'Condoms for Oral Sex', 'Condom for Oral-Genital Use', 'Embodiments of the Invention', 'Condom Design', 'Condom Design for Oral Sex', 'Toroidal Surfaces', 'Tongue Extension for Performing Cunnilingus', 'Condom Patent', 'Condom Flanges', 'pdfep'])"
     },
     "execution_count": 20,
     "metadata": {},
     "output_type": "execute_result"
    }
   ],
   "source": [
    "divided.keys()"
   ],
   "metadata": {
    "collapsed": false
   }
  },
  {
   "cell_type": "code",
   "execution_count": 28,
   "outputs": [
    {
     "data": {
      "text/plain": "'EP\\t0600858\\tB1\\t2000-05-17\\ten\\tDESCR\\t1\\t<heading id=\"h0001\"><u><b>Background of the Invention</b></u></heading><p id=\"p0001\" num=\"0001\">In recent years, the appearance of the HIV virus and the impending Acquired Immune Deficiency Syndrome epidemic have created an atmosphere of fear, caution and prudence in which sexually active adults must consider protecting themselves from infection by HIV virus as well as other venereal diseases. It is generally accepted as fact that the condom provides the best protection from venereal disease and HIV virus, aside from complete sexual abstinence. Unfortunately, such a positive barrier device is, at present, the only sure or certain way to prevent transmission of all STD\\'s, many of which cause great personal suffering and, in the cases of AIDS and syphilis, death.</p><p id=\"p0002\" num=\"0002\">Condoms are generally designed to be applied to the male member, although recent adaptations have been introduced which permit their use by women in the form a liner for the vaginal canal. Such a condom is disclosed in US-A-4805604. However, a significant form of sexual activity, namely oral-genital sexual contact, has not been well served by the forms of condoms known in the prior art. Although many individuals do not openly discuss or acknowledge participating in such practices, many surveys have shown that oral-genital sex is highly desired and engaged in frequently. Commercially available condoms are not designed to facilitate or accommodate oral-genital sex. Moreover, the oral cavity, together with the lips and surrounding skin, provides many opportunities for disease transmission. Brushing and flossing of teeth, biting the cheek or tongue accidentally, or STD lesions in the mouth and throat areas all create breaks in the skin and mucosa that provide direct vectors to the blood. The present invention is directed toward a condom-like prophylactic that protects the oral cavity during oral sexual activity, so that disease transmission is blocked. It also protects the genitals, thus avoiding transmission in either direction. This is a unique solution to a very serious problem.</p><p id=\"p0003\" num=\"0003\">The typical male condom device may be used to prevent skin-to-skin contact during fellatio, but it suffers from the same drawback for this use as for other uses; i.e., it<!-- EPO <DP n=\"2\"> --> requires male arousal prior to'"
     },
     "execution_count": 28,
     "metadata": {},
     "output_type": "execute_result"
    }
   ],
   "source": [
    "list(divided.values())[1]"
   ],
   "metadata": {
    "collapsed": false
   }
  },
  {
   "cell_type": "code",
   "execution_count": 24,
   "outputs": [
    {
     "data": {
      "text/plain": "'EP\\t0600858\\tB1\\t2000-05-17\\ten\\tDESCR\\t1\\t<heading id=\"h0001\"><u><b>Background of the Invention</b></u></heading><p id=\"p0001\" num=\"0001\">In recent years, the appearance of the HIV virus and the impending Acquired Immune Deficiency Syndrome epidemic have created an atmosphere of fear, caution and prudence in which sexually active adults must consider protecting themselves from infection by HIV virus as well as other venereal diseases. It is generally accepted as fact that the condom provides the best protection from venereal disease and HIV virus, aside from complete sexual abstinence. Unfortunately, such a positive barrier device is, at present, the only sure or certain way to prevent transmission of all STD\\'s, many of which cause great personal suffering and, in the cases of AIDS and syphilis, death.</p><p id=\"p0002\" num=\"0002\">Condoms are generally designed to be applied to the male member, although recent adaptations have been introduced which permit their use by women in the form a liner for the vaginal canal. Such a condom is disclosed in US-A-4805604. However, a significant form of sexual activity, namely oral-genital sexual contact, has not been well served by the forms of condoms known in the prior art. Although many individuals do not openly discuss or acknowledge participating in such practices, many surveys have shown that oral-genital sex is highly desired and engaged in frequently. Commercially available condoms are not designed to facilitate or accommodate oral-genital sex. Moreover, the oral cavity, together with the lips and surrounding skin, provides many opportunities for disease transmission. Brushing and flossing of teeth, biting the cheek or tongue accidentally, or STD lesions in the mouth and throat areas all create breaks in the skin and mucosa that provide direct vectors to the blood. The present invention is directed toward a condom-like prophylactic that protects the oral cavity during oral sexual activity, so that disease transmission is blocked. It also protects the genitals, thus avoiding transmission in either direction. This is a unique solution to a very serious problem.</p><p id=\"p0003\" num=\"0003\">The typical male condom device may be used to prevent skin-to-skin contact during fellatio, but it suffers from the same drawback for this use as for other uses; i.e., it<!-- EPO <DP n=\"2\"> --> requires male arousal prior to'"
     },
     "execution_count": 24,
     "metadata": {},
     "output_type": "execute_result"
    }
   ],
   "source": [
    "divided['EP 0600858 B1']"
   ],
   "metadata": {
    "collapsed": false
   }
  },
  {
   "cell_type": "code",
   "execution_count": 35,
   "outputs": [
    {
     "data": {
      "text/plain": "['</heading>', '</heading>', '</heading>']"
     },
     "execution_count": 35,
     "metadata": {},
     "output_type": "execute_result"
    }
   ],
   "source": [
    "re.findall('</heading>', ''.join(condom))"
   ],
   "metadata": {
    "collapsed": false
   }
  },
  {
   "cell_type": "code",
   "execution_count": 38,
   "outputs": [
    {
     "name": "stdout",
     "output_type": "stream",
     "text": [
      "CONDOM FOR ORAL-GENITAL USE\n",
      "EP\t0600858\tB1\t2000-05-17\ten\tDESCR\t1\t<heading id=\"h0001\"><u><b>Background of the Invention</b></u>\n",
      "colour to enhance enjoyment during use.<!-- EPO <DP n=\"5\"> --></p><heading id=\"h0002\"><u>Brief Description of the Drawing</u>\n",
      "tion for cunnilingus.</li></ul><!-- EPO <DP n=\"7\"> --></p><heading id=\"h0003\"><u>Description of the Preferred Embodiments</u>\n",
      "P\t0600858\tB1\t2000-05-17\ten\tPDFEP\t1\thttps://data.epo.org/publication-server/pdf-document?cc=EP&pn=0600858&ki=B1&pd=2000-05-17\n",
      "\n"
     ]
    }
   ],
   "source": [
    "condom_str = ''.join(condom)\n",
    "for x in condom_str.split('</heading>'):\n",
    "    print(x[-125:])"
   ],
   "metadata": {
    "collapsed": false
   }
  },
  {
   "cell_type": "code",
   "execution_count": 34,
   "outputs": [
    {
     "data": {
      "text/plain": "list"
     },
     "execution_count": 34,
     "metadata": {},
     "output_type": "execute_result"
    }
   ],
   "source": [
    "type(condom)"
   ],
   "metadata": {
    "collapsed": false
   }
  },
  {
   "cell_type": "code",
   "execution_count": 42,
   "outputs": [
    {
     "name": "stdout",
     "output_type": "stream",
     "text": [
      "title 30\n",
      "EP 0600858 B1 511\n",
      "Male Condom and Protection during Oral Sex 512\n",
      "Condoms for Oral Sex 511\n",
      "Condom for Oral-Genital Use 512\n",
      "Embodiments of the Invention 512\n",
      "Condom Design 513\n",
      "Condom Design for Oral Sex 512\n",
      "Toroidal Surfaces 512\n",
      "Tongue Extension for Performing Cunnilingus 151\n",
      "Condom Patent 512\n",
      "Condom Flanges 413\n",
      "pdfep 56\n"
     ]
    }
   ],
   "source": [
    "for k, v in divided.items():\n",
    "    print(k, num_tokens_from_string(v))"
   ],
   "metadata": {
    "collapsed": false
   }
  }
 ],
 "metadata": {
  "kernelspec": {
   "display_name": "Python 3",
   "language": "python",
   "name": "python3"
  },
  "language_info": {
   "codemirror_mode": {
    "name": "ipython",
    "version": 2
   },
   "file_extension": ".py",
   "mimetype": "text/x-python",
   "name": "python",
   "nbconvert_exporter": "python",
   "pygments_lexer": "ipython2",
   "version": "2.7.6"
  }
 },
 "nbformat": 4,
 "nbformat_minor": 0
}
